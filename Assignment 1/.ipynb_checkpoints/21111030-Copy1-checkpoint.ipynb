{
 "cells": [
  {
   "cell_type": "markdown",
   "id": "based-kelly",
   "metadata": {},
   "source": [
    "## Hopfield network model"
   ]
  },
  {
   "cell_type": "markdown",
   "id": "accessory-generic",
   "metadata": {},
   "source": [
    "In this simplified Hopfied model, each neuron can only take values +1 or -1. The network stores pixel patterns, and attempts to retrieve them given some cue in the form of a part of the original pattern used to set an initial state $S_i(t=0)$ for every neuron in the network. The network activation of all the neurons evolves as follows\n",
    "\n",
    "$$S_i(t+1) = sgn\\left(\\sum_j{w_{ij} S_j(t)}\\right), $$\n",
    "\n",
    "where the weight of every synaptic connection is calculated as,\n",
    "\n",
    "$$w_{ij} = \\frac{1}{N} \\sum_{\\mu}{p_i^\\mu p_j^\\mu}, $$\n",
    "\n",
    "where in turn, $N$ is the number of neurons, and $p_i^\\mu$ is the state of the $i^{th}$ neuron for encoding pattern $\\mu$."
   ]
  },
  {
   "cell_type": "markdown",
   "id": "false-earth",
   "metadata": {},
   "source": [
    "The code below is taken from this [link](https://neuronaldynamics-exercises.readthedocs.io/en/latest/exercises/hopfield-network.html). Follow the accompanying exercises to be better prepared for your assignment. Remember to install all needed libraries before trying to run it. "
   ]
  },
  {
   "cell_type": "markdown",
   "id": "upset-embassy",
   "metadata": {},
   "source": [
    "## Our own Hopfield network model"
   ]
  },
  {
   "cell_type": "markdown",
   "id": "spectacular-morocco",
   "metadata": {},
   "source": [
    "You will write your own code to build a Hopfield network. I am leaving sample expected results below as a guide. "
   ]
  },
  {
   "cell_type": "markdown",
   "id": "involved-batman",
   "metadata": {},
   "source": [
    "## Assignment 1"
   ]
  },
  {
   "cell_type": "markdown",
   "id": "uniform-samuel",
   "metadata": {},
   "source": [
    "Q1. Can you write you own Hopfield network model that works more or less like the one simulated above? (20 points)\n",
    "\n",
    "Q2. Run the model with different parameters to figure out how the model's capacity to retrieve the correct pattern in response to a cue deteriorates as a function of \n",
    "(a) the informativeness of the cue\n",
    "(b) the number of other patterns stored in the network\n",
    "(c) the size of the network\n",
    "\n",
    "Present your answers with plots and/or math. (20 points)\n",
    "\n",
    "Q3. Can you write a function that converts MNIST digit [data](https://gitlab.com/datapythonista/mnist) to the sort of patterns used in this simulation? (20 points)\n",
    "\n",
    "Q4. Can you write an MNIST classifier using the Hopfield network?. Can you characterize its performance using F-score, and compare with [classical](https://github.com/ksopyla/svm_mnist_digit_classification) and [deep](https://github.com/hwalsuklee/tensorflow-mnist-cnn) supervised learning methods? Remember that you can always use multiple samples of the same digit even for the Hopfield network classifier. Summarize your sense of the merits and demerits of using a Hopfield network as a classifier (40 points) "
   ]
  },
  {
   "cell_type": "markdown",
   "id": "b4a3fe79",
   "metadata": {},
   "source": [
    "# Q1"
   ]
  },
  {
   "cell_type": "code",
   "execution_count": 1,
   "id": "a4969bfd",
   "metadata": {
    "ExecuteTime": {
     "end_time": "2022-01-29T13:39:11.355553Z",
     "start_time": "2022-01-29T13:39:06.968289Z"
    }
   },
   "outputs": [],
   "source": [
    "import numpy as np\n",
    "import matplotlib.pyplot as plt\n",
    "from neurodynex3.hopfield_network import network, pattern_tools, plot_tools\n",
    "from copy import deepcopy\n",
    "from brian2 import *\n",
    "#Sets the plots to be displayed and saved in notebook\n",
    "%matplotlib inline \n",
    "plt.rcParams[\"figure.figsize\"] = (10,5)"
   ]
  },
  {
   "cell_type": "code",
   "execution_count": 2,
   "id": "cbe9d1e8",
   "metadata": {
    "ExecuteTime": {
     "end_time": "2022-01-29T13:39:11.371511Z",
     "start_time": "2022-01-29T13:39:11.357548Z"
    }
   },
   "outputs": [],
   "source": [
    "##Function to generate numpat number of random patterns of size psize x psize \n",
    "def get_patterns(psize,numpat):\n",
    "    patlist =[] ##Empty list to store patterns\n",
    "    for _ in range(numpat):\n",
    "        newpat = np.array([[0 for a in range(psize)] for b in range(psize)]) ##Initialize a psize*psize array with 0\n",
    "        for i in range(psize):\n",
    "            for j in range(psize):\n",
    "                newpat[i][j] = 1 if np.random.randint(1,10)<6 else -1 ##Randomly populate array with 1 and -1 with equal probability\n",
    "        patlist.append(newpat)\n",
    "    return patlist\n",
    "\n",
    "##Function to distort or complement nflips number of pixels in passed pattern\n",
    "def perturb_pattern(pattern,nflips):\n",
    "    indexes = []\n",
    "    while(len(indexes)<nflips): ##Generate nflips random pixel coordinates \n",
    "        a,b = (np.random.randint(0,len(pattern)),np.random.randint(0,len(pattern)))\n",
    "        if (a,b) not in indexes:\n",
    "            indexes.append((a,b))\n",
    "    for a,b in indexes: ##Flip the random selected pixels\n",
    "        pattern[a][b] = -1 if pattern[a][b]== 1 else 1\n",
    "    return pattern\n",
    "\n",
    "##Function To calculate weights of each neuron with all other neurons of hopsfield network\n",
    "def calculate_weights(patlist,psize):\n",
    "    weights = np.array([[0 for i in range (psize*psize)] for j in range (psize*psize)]) ##initialize a s array of size no of neurons * no of neurons with 0\n",
    "    \n",
    "    ##Uses the  formula mentioned above to calculate weights \n",
    "    for p in patlist:\n",
    "        for i in range(psize*psize):\n",
    "            for j in range(psize*psize):\n",
    "                weights[i][j] += p[i//psize][i%psize]* p[j//psize][j%psize]\n",
    "    \n",
    "    weights = weights/(psize*psize)\n",
    "    return weights\n",
    "\n",
    "## Function to calculate new network state\n",
    "def network_evolution(pattern,weights):\n",
    "    newpat = deepcopy(pattern)\n",
    "    for i in range(len(weights)):\n",
    "        sum1 = 0\n",
    "        for j in range(len(weights)):\n",
    "            sum1+= (weights[i][j])*newpat[j//len(newpat)][j%len(newpat)]\n",
    "        newpat[i//len(newpat)][i%len(newpat)] = 1 if sum1>=0 else -1\n",
    "    return newpat"
   ]
  },
  {
   "cell_type": "code",
   "execution_count": 3,
   "id": "d28fd7e3",
   "metadata": {
    "ExecuteTime": {
     "end_time": "2022-01-29T13:39:12.748827Z",
     "start_time": "2022-01-29T13:39:11.375501Z"
    }
   },
   "outputs": [
    {
     "data": {
      "image/png": "[encoded data removed]",
      "text/plain": [
       "<Figure size 720x360 with 5 Axes>"
      ]
     },
     "metadata": {
      "needs_background": "light"
     },
     "output_type": "display_data"
    },
    {
     "data": {
      "image/png": "[encoded data removed]",
      "text/plain": [
       "<Figure size 720x360 with 1 Axes>"
      ]
     },
     "metadata": {
      "needs_background": "light"
     },
     "output_type": "display_data"
    },
    {
     "name": "stdout",
     "output_type": "stream",
     "text": [
      "\n"
     ]
    },
    {
     "data": {
      "image/png": "[encoded data removed]",
      "text/plain": [
       "<Figure size 720x360 with 12 Axes>"
      ]
     },
     "metadata": {
      "needs_background": "light"
     },
     "output_type": "display_data"
    }
   ],
   "source": [
    "plist = get_patterns(4,5) ##Gets 5 patterns of size 4*4\n",
    "\n",
    "\n",
    "cue = deepcopy(plist) ##Copies the patternlist to a new memory location\n",
    "\n",
    "p = perturb_pattern(cue[0],4) ##Change one pattern from original in 4 places  \n",
    "\n",
    "weights = calculate_weights(plist,4) ##Calculate weights for the network\n",
    "\n",
    "sequence = [p] ##Add modified pattern to network to sequence list to observe network performance\n",
    "\n",
    "for i  in range(5): ##Changes network state 5 times to retrieve original pattern from modified pattern\n",
    "    newpat = network_evolution(sequence[len(sequence)-1],weights)\n",
    "    sequence.append(newpat)\n",
    "\n",
    "plot_tools.plot_pattern_list(plist) ##Plots the randomly generated original patterns\n",
    "plot_tools.plot_pattern(p) ## Plots the modified pattern\n",
    "plot_tools.plot_state_sequence_and_overlap(sequence,plist,reference_idx=0) ##Plots the sequence in which network evolves to find original pattern"
   ]
  },
  {
   "cell_type": "markdown",
   "id": "5fc74e7f",
   "metadata": {},
   "source": [
    "# Professor's Code"
   ]
  },
  {
   "cell_type": "code",
   "execution_count": 4,
   "id": "e8a2f9a5",
   "metadata": {
    "ExecuteTime": {
     "end_time": "2022-01-29T13:39:13.918699Z",
     "start_time": "2022-01-29T13:39:12.750822Z"
    }
   },
   "outputs": [
    {
     "data": {
      "image/png": "[encoded data removed]",
      "text/plain": [
       "<Figure size 432x288 with 5 Axes>"
      ]
     },
     "metadata": {
      "needs_background": "light"
     },
     "output_type": "display_data"
    },
    {
     "data": {
      "image/png": "[encoded data removed]",
      "text/plain": [
       "<Figure size 432x288 with 2 Axes>"
      ]
     },
     "metadata": {
      "needs_background": "light"
     },
     "output_type": "display_data"
    },
    {
     "name": "stdout",
     "output_type": "stream",
     "text": [
      "\n"
     ]
    },
    {
     "data": {
      "image/png": "[encoded data removed]",
      "text/plain": [
       "<Figure size 432x288 with 8 Axes>"
      ]
     },
     "metadata": {
      "needs_background": "light"
     },
     "output_type": "display_data"
    }
   ],
   "source": [
    "%matplotlib inline\n",
    "from neurodynex3.hopfield_network import network, pattern_tools, plot_tools\n",
    "\n",
    "pattern_size = 4\n",
    "\n",
    "# create an instance of the class HopfieldNetwork\n",
    "hopfield_net = network.HopfieldNetwork(nr_neurons= pattern_size**2)\n",
    "# instantiate a pattern factory\n",
    "factory = pattern_tools.PatternFactory(pattern_size, pattern_size)\n",
    "# create a checkerboard pattern and add it to the pattern list\n",
    "checkerboard = factory.create_checkerboard()\n",
    "pattern_list = [checkerboard]\n",
    "\n",
    "# add random patterns to the list\n",
    "pattern_list.extend(factory.create_random_pattern_list(nr_patterns=4, on_probability=0.5))\n",
    "plot_tools.plot_pattern_list(pattern_list)\n",
    "# how similar are the random patterns and the checkerboard? Check the overlaps\n",
    "overlap_matrix = pattern_tools.compute_overlap_matrix(pattern_list)\n",
    "plot_tools.plot_overlap_matrix(overlap_matrix)\n",
    "\n",
    "# let the hopfield network \"learn\" the patterns. Note: they are not stored\n",
    "# explicitly but only network weights are updated !\n",
    "hopfield_net.store_patterns(pattern_list)\n",
    "\n",
    "# create a noisy version of a pattern and use that to initialize the network\n",
    "noisy_init_state = pattern_tools.flip_n(checkerboard, nr_of_flips=4)\n",
    "hopfield_net.set_state_from_pattern(noisy_init_state)\n",
    "\n",
    "# from this initial state, let the network dynamics evolve.\n",
    "states = hopfield_net.run_with_monitoring(nr_steps=3)\n",
    "\n",
    "# each network state is a vector. reshape it to the same shape used to create the patterns.\n",
    "states_as_patterns = factory.reshape_patterns(states)\n",
    "# plot the states of the network\n",
    "plot_tools.plot_state_sequence_and_overlap(states_as_patterns, pattern_list, reference_idx=0, suptitle=\"Network dynamics\")\n"
   ]
  },
  {
   "cell_type": "code",
   "execution_count": 5,
   "id": "b7429c77",
   "metadata": {
    "ExecuteTime": {
     "end_time": "2022-01-29T13:39:14.696619Z",
     "start_time": "2022-01-29T13:39:13.921692Z"
    }
   },
   "outputs": [
    {
     "data": {
      "image/png": "[encoded data removed]",
      "text/plain": [
       "<Figure size 432x288 with 5 Axes>"
      ]
     },
     "metadata": {
      "needs_background": "light"
     },
     "output_type": "display_data"
    },
    {
     "data": {
      "image/png": "[encoded data removed]",
      "text/plain": [
       "<Figure size 432x288 with 1 Axes>"
      ]
     },
     "metadata": {
      "needs_background": "light"
     },
     "output_type": "display_data"
    },
    {
     "name": "stdout",
     "output_type": "stream",
     "text": [
      "\n"
     ]
    },
    {
     "data": {
      "image/png": "[encoded data removed]",
      "text/plain": [
       "<Figure size 432x288 with 8 Axes>"
      ]
     },
     "metadata": {
      "needs_background": "light"
     },
     "output_type": "display_data"
    }
   ],
   "source": [
    "plist = get_patterns(4,5)\n",
    "#plot_tools.plot_pattern_list(plist)\n",
    "\n",
    "cue = deepcopy(plist)\n",
    "S = perturb_pattern(cue[0],3)\n",
    "wghts = calculate_weights(plist, pattern_size)\n",
    "\n",
    "state_list =[S]\n",
    "#state_list.append(S)\n",
    "#print(state_list)\n",
    "#plot_tools.plot_pattern(S)\n",
    "for i in range(3):\n",
    "    state_list.append(network_evolution(S,wghts))\n",
    "#    state_list.append(S)\n",
    "\n",
    "plot_tools.plot_pattern_list(plist)\n",
    "#print(state_list[0])\n",
    "plot_tools.plot_pattern(state_list[0])\n",
    "plot_tools.plot_state_sequence_and_overlap(state_list, plist, reference_idx=0, suptitle=\"Network dynamics\")"
   ]
  },
  {
   "cell_type": "markdown",
   "id": "f669a83c",
   "metadata": {},
   "source": [
    "# Q2"
   ]
  },
  {
   "cell_type": "markdown",
   "id": "e63f762e",
   "metadata": {},
   "source": [
    "## (A) Informativeness of Cue\n",
    "\n",
    "### We will observe effect of increasing no of flips on accuracy of hopsfield network"
   ]
  },
  {
   "cell_type": "code",
   "execution_count": 6,
   "id": "9875f18c",
   "metadata": {
    "ExecuteTime": {
     "end_time": "2022-01-29T13:39:14.712575Z",
     "start_time": "2022-01-29T13:39:14.698613Z"
    }
   },
   "outputs": [],
   "source": [
    "##Fnuction to calculate result pattern and test pattern are how similar\n",
    "def accuracy(pattern,result):\n",
    "    acc = 0.0\n",
    "    for i in range(len(pattern)):\n",
    "        for j in range(len(pattern)):\n",
    "            if pattern[i][j] == result[i][j]:\n",
    "                acc+=1\n",
    "    return (acc*1.0)/(len(pattern)**2)"
   ]
  },
  {
   "cell_type": "code",
   "execution_count": 7,
   "id": "a930352f",
   "metadata": {
    "ExecuteTime": {
     "end_time": "2022-01-29T13:51:15.700793Z",
     "start_time": "2022-01-29T13:39:14.714570Z"
    }
   },
   "outputs": [
    {
     "name": "stdout",
     "output_type": "stream",
     "text": [
      "\n"
     ]
    },
    {
     "data": {
      "image/png": "[encoded data removed]",
      "text/plain": [
       "<Figure size 432x288 with 1 Axes>"
      ]
     },
     "metadata": {
      "needs_background": "light"
     },
     "output_type": "display_data"
    }
   ],
   "source": [
    "##Varies no of patterns and no of flips for different patterns of size 10 to determine effect of no of flips on network accuracy\n",
    "\n",
    "acc_npat=[]\n",
    "for i in range(5,56,5):\n",
    "    acc=[0]*11\n",
    "    for j in range(10):\n",
    "        patlist = get_patterns(10,i)\n",
    "        for flips in range(0,51,5):\n",
    "            cue = deepcopy(patlist)\n",
    "            weights = calculate_weights(patlist,10)\n",
    "            p = perturb_pattern(cue[0],flips)\n",
    "            for k  in range(5):\n",
    "                p = network_evolution(p,weights)\n",
    "            acc[flips//5]+= accuracy(patlist[0],p)\n",
    "           \n",
    "    acc_npat.append([a/10 for a in acc])\n",
    "\n",
    "##Plots the graph of accuracy vs no of flips for different no  of patterns in network\n",
    "\n",
    "fig , ax = plt.subplots(1)\n",
    "\n",
    "for i in range(len(acc_npat)):\n",
    "    values = np.array([x for x in acc_npat[i]])\n",
    "    keys = [x*5 for x in range(11)]\n",
    "    ax.plot(keys,values,label = (i+1)*5)\n",
    "    \n",
    "ax.set_xlabel('No of Flips')\n",
    "ax.set_ylabel('Accuracy')\n",
    "ax.set_title('Accuracy V/S No of Flips with Different No of Patterns')\n",
    "ax.legend(bbox_to_anchor = (1, 1))\n",
    "print()"
   ]
  },
  {
   "cell_type": "code",
   "execution_count": 8,
   "id": "aa957687",
   "metadata": {
    "ExecuteTime": {
     "end_time": "2022-01-29T13:52:18.993586Z",
     "start_time": "2022-01-29T13:51:15.702820Z"
    }
   },
   "outputs": [
    {
     "name": "stdout",
     "output_type": "stream",
     "text": [
      "\n"
     ]
    },
    {
     "data": {
      "image/png": "[encoded data removed]",
      "text/plain": [
       "<Figure size 432x288 with 1 Axes>"
      ]
     },
     "metadata": {
      "needs_background": "light"
     },
     "output_type": "display_data"
    }
   ],
   "source": [
    "##Varies pattern size and no of flips for different pattern sets of 5 to determine effect of no of flips on network accuracy\n",
    "\n",
    "acc_sizepat=[]\n",
    "for i in range(8,12):\n",
    "    acc=[0]*11\n",
    "    for j in range(10):\n",
    "        patlist = get_patterns(i,5)\n",
    "        for flips in range(0,51,5):\n",
    "            cue = deepcopy(patlist)\n",
    "            weights = calculate_weights(patlist,i)\n",
    "            p = perturb_pattern(cue[0],flips)\n",
    "            for k  in range(5):\n",
    "                p = network_evolution(p,weights)\n",
    "            acc[flips//5]+= accuracy(patlist[0],p)\n",
    "           \n",
    "    acc_sizepat.append([a/10 for a in acc])\n",
    "\n",
    "##Plots the graph of accuracy vs no of flips for different pattern sizes\n",
    "\n",
    "fig , ax = plt.subplots(1)\n",
    "\n",
    "for i in range(len(acc_sizepat)):\n",
    "    values = np.array([x for x in acc_sizepat[i]])\n",
    "    keys = [x*5 for x in range(11)]\n",
    "    ax.plot(keys,values,label = (i+8))\n",
    "    \n",
    "ax.set_xlabel('No of Flips')\n",
    "ax.set_ylabel('Accuracy')\n",
    "ax.set_title('Accuracy V/S No of Flips with Different Size of Patterns')\n",
    "ax.legend(bbox_to_anchor = (1, 1))\n",
    "print()"
   ]
  },
  {
   "cell_type": "markdown",
   "id": "5ed98d82",
   "metadata": {},
   "source": [
    "### As can be seen from above two graphs, as no of flips increases which leads to informativeness of cue decreasing leads to drop in network accuracy."
   ]
  },
  {
   "cell_type": "markdown",
   "id": "ed9f8948",
   "metadata": {},
   "source": [
    "## (B) No of Patterns in Netwoek\n",
    "\n",
    "### We will observe effect of increasing no of patterns in network on accuracy of hopsfield network"
   ]
  },
  {
   "cell_type": "code",
   "execution_count": 9,
   "id": "b6251c39",
   "metadata": {
    "ExecuteTime": {
     "end_time": "2022-01-29T13:56:39.595887Z",
     "start_time": "2022-01-29T13:52:18.995606Z"
    }
   },
   "outputs": [
    {
     "name": "stdout",
     "output_type": "stream",
     "text": [
      "\n"
     ]
    },
    {
     "data": {
      "image/png": "[encoded data removed]",
      "text/plain": [
       "<Figure size 432x288 with 1 Axes>"
      ]
     },
     "metadata": {
      "needs_background": "light"
     },
     "output_type": "display_data"
    }
   ],
   "source": [
    "## Varies no of patterns in network with fixed no of flips and pattern size to determine relationship between no of patterns and accuracy\n",
    "acc=[0]*47\n",
    "for i in range(4,51):\n",
    "    for j in range(10):\n",
    "        patlist = get_patterns(10,i)\n",
    "        cue = deepcopy(patlist)\n",
    "        weights = calculate_weights(patlist,10)\n",
    "        p = perturb_pattern(cue[0],20)\n",
    "        for k  in range(5):\n",
    "            p = network_evolution(p,weights)\n",
    "        acc[(i-4)]+= accuracy(patlist[0],p)\n",
    "           \n",
    "acc = [a/10 for a in acc]\n",
    "\n",
    "##Plots the accuracy vs no of patterns graph using values computed above\n",
    "fig , ax = plt.subplots(1)\n",
    "\n",
    "keys = [x for x in range(4,51)]\n",
    "ax.plot(keys,acc)\n",
    "    \n",
    "ax.set_xlabel('No of Patterns')\n",
    "ax.set_ylabel('Accuracy')\n",
    "ax.set_title('Accuracy V/S No of Patterns')\n",
    "print()"
   ]
  },
  {
   "cell_type": "markdown",
   "id": "5592c885",
   "metadata": {},
   "source": [
    "### As can be seen from above graph, over full range of patterns, increase in no of patterns leads to decrease in accuracy but for partial segments of the graph no discerning trend can be infered.\n",
    "\n",
    "### For small changes in no of patterns (usually 2-3 ), there is no significant difference in accuracy of network"
   ]
  },
  {
   "cell_type": "markdown",
   "id": "1e71c04a",
   "metadata": {},
   "source": [
    "## (C) Size of Patterns in Netwoek\n",
    "\n",
    "### We will observe effect of increasing size of patterns in network on accuracy of hopsfield network"
   ]
  },
  {
   "cell_type": "code",
   "execution_count": 10,
   "id": "5230674c",
   "metadata": {
    "ExecuteTime": {
     "end_time": "2022-01-29T13:56:45.296890Z",
     "start_time": "2022-01-29T13:56:39.595887Z"
    }
   },
   "outputs": [
    {
     "name": "stdout",
     "output_type": "stream",
     "text": [
      "\n"
     ]
    },
    {
     "data": {
      "image/png": "[encoded data removed]",
      "text/plain": [
       "<Figure size 432x288 with 1 Axes>"
      ]
     },
     "metadata": {
      "needs_background": "light"
     },
     "output_type": "display_data"
    }
   ],
   "source": [
    "## Varies size of pattern in network with fixed no of flips and no of patterns to determine relationship between size of pattern and accuracy\n",
    "acc=[0]*7\n",
    "for i in range(4,11):\n",
    "    for j in range(10):\n",
    "        patlist = get_patterns(i,6)\n",
    "        cue = deepcopy(patlist)\n",
    "        weights = calculate_weights(patlist,i)\n",
    "        p = perturb_pattern(cue[0],10)\n",
    "        for k  in range(5):\n",
    "            p = network_evolution(p,weights)\n",
    "        acc[(i-4)]+= accuracy(patlist[0],p)\n",
    "           \n",
    "acc = [a/10 for a in acc]\n",
    "\n",
    "##Plots the accuracy vs no of patterns graph using values computed above\n",
    "fig , ax = plt.subplots(1)\n",
    "\n",
    "keys = [x for x in range(4,11)]\n",
    "ax.plot(keys,acc)\n",
    "    \n",
    "ax.set_xlabel('Size of Patterns')\n",
    "ax.set_ylabel('Accuracy')\n",
    "ax.set_title('Accuracy V/S Size of Patterns')\n",
    "print()"
   ]
  },
  {
   "cell_type": "markdown",
   "id": "478c09e1",
   "metadata": {},
   "source": [
    "### It is observed that increase in pattern size leads to increase in network accuracy when constant no of flips are considered but in my opinion it is not right inference as for same no of pixel differences, when size of pattern is small then it has greater effect on accuracy in comparision to when pattern size is greater"
   ]
  },
  {
   "cell_type": "markdown",
   "id": "5c2e47f3",
   "metadata": {},
   "source": [
    "# Q3"
   ]
  },
  {
   "cell_type": "code",
   "execution_count": 11,
   "id": "2b605bc7",
   "metadata": {
    "ExecuteTime": {
     "end_time": "2022-01-29T13:56:51.098727Z",
     "start_time": "2022-01-29T13:56:45.296890Z"
    }
   },
   "outputs": [],
   "source": [
    "from tensorflow import keras\n",
    "import random\n",
    "\n",
    "(train_X,train_Y),(test_X,test_Y) = keras.datasets.mnist.load_data() ##Loads the MNIST dataset"
   ]
  },
  {
   "cell_type": "code",
   "execution_count": 12,
   "id": "68b35960",
   "metadata": {
    "ExecuteTime": {
     "end_time": "2022-01-29T13:56:51.114350Z",
     "start_time": "2022-01-29T13:56:51.098727Z"
    }
   },
   "outputs": [
    {
     "name": "stdout",
     "output_type": "stream",
     "text": [
      "(60000, 28, 28)\n",
      "(10000, 28, 28)\n"
     ]
    }
   ],
   "source": [
    "print(train_X.shape)\n",
    "print(test_X.shape)"
   ]
  },
  {
   "cell_type": "code",
   "execution_count": 13,
   "id": "9b6aab51",
   "metadata": {
    "ExecuteTime": {
     "end_time": "2022-01-29T13:56:51.129998Z",
     "start_time": "2022-01-29T13:56:51.114350Z"
    }
   },
   "outputs": [],
   "source": [
    "##Picks randomly n images of each digit from 0 to 9 converts into a binary image with pixel values +1/-1\n",
    "\n",
    "def datagen():\n",
    "    xtrain = []\n",
    "    ytrain = []\n",
    "    for i in range(10):\n",
    "        index= [x for x in range(60000) if train_Y[x]== i] ##Finds out indexes of all images of a particular digit i\n",
    "        randindex = random.sample(index,5) ##samples n indexes without replacement\n",
    "        for j in randindex: ##Converts selected training images to a binary image \n",
    "            data = train_X[j].flatten()\n",
    "            data = np.where(data>127,1,-1)\n",
    "            data = np.reshape(data,(-1,28))\n",
    "            xtrain.append(data)\n",
    "            ytrain.append(i) ##Stores the training image and its corresponding label\n",
    "    return xtrain,ytrain"
   ]
  },
  {
   "cell_type": "code",
   "execution_count": 14,
   "id": "31769aeb",
   "metadata": {
    "ExecuteTime": {
     "end_time": "2022-01-29T13:56:52.385970Z",
     "start_time": "2022-01-29T13:56:51.129998Z"
    }
   },
   "outputs": [],
   "source": [
    "xtrain,ytrain=datagen()\n",
    "##for i in range(10):\n",
    "    ##plot_tools.plot_pattern(xtrain[i*5])"
   ]
  },
  {
   "cell_type": "code",
   "execution_count": 15,
   "id": "276ce7e1",
   "metadata": {
    "ExecuteTime": {
     "end_time": "2022-01-29T13:56:52.642305Z",
     "start_time": "2022-01-29T13:56:52.387996Z"
    }
   },
   "outputs": [],
   "source": [
    "##Same work as 2 cells above but prepares test set\n",
    "xtest = []\n",
    "ytest = []\n",
    "for i in range(10):\n",
    "    index= [x for x in range(10000) if test_Y[x]== i]\n",
    "    randindex = random.sample(index,50)\n",
    "    for j in randindex:\n",
    "        data = test_X[j].flatten()\n",
    "        data = np.where(data>127,1,-1)\n",
    "        data = np.reshape(data,(-1,28))\n",
    "        xtest.append(data)\n",
    "        ytest.append(i)\n"
   ]
  },
  {
   "cell_type": "markdown",
   "id": "d6c1d1ea",
   "metadata": {},
   "source": [
    "# Q4"
   ]
  },
  {
   "cell_type": "code",
   "execution_count": 16,
   "id": "21ea97d6",
   "metadata": {
    "ExecuteTime": {
     "end_time": "2022-01-29T13:56:52.657927Z",
     "start_time": "2022-01-29T13:56:52.642305Z"
    }
   },
   "outputs": [],
   "source": [
    "##Function which returns label of trainig image which is most similar to passed image in pixel values\n",
    "\n",
    "def prediction(pattern):\n",
    "    bestacc = 0\n",
    "    index = 0\n",
    "    for i in range(len(xtrain)):\n",
    "        curracc = accuracy2(pattern,xtrain[i])\n",
    "        if curracc>bestacc:\n",
    "            bestacc = curracc\n",
    "            pred = ytrain[i]\n",
    "        \n",
    "    return pred\n",
    "        "
   ]
  },
  {
   "cell_type": "code",
   "execution_count": 17,
   "id": "ba6cc28a",
   "metadata": {
    "ExecuteTime": {
     "end_time": "2022-01-29T13:57:44.673466Z",
     "start_time": "2022-01-29T13:56:52.657927Z"
    }
   },
   "outputs": [],
   "source": [
    "weights = calculate_weights(xtrain,28) ##Calculates weights for the hopsfield network being built as MNIST classifier"
   ]
  },
  {
   "cell_type": "code",
   "execution_count": 18,
   "id": "2660ee0b",
   "metadata": {
    "ExecuteTime": {
     "end_time": "2022-01-29T13:57:44.693796Z",
     "start_time": "2022-01-29T13:57:44.675490Z"
    }
   },
   "outputs": [],
   "source": [
    "def accuracy2(test,p): ## Calculates how similar two passed images are\n",
    "    dot_prod = np.dot(p.flatten(), test.flatten())\n",
    "\n",
    "    return float(dot_prod) / (np.prod(p.shape))"
   ]
  },
  {
   "cell_type": "code",
   "execution_count": 19,
   "id": "a57e5e47",
   "metadata": {
    "ExecuteTime": {
     "end_time": "2022-01-29T14:05:27.247573Z",
     "start_time": "2022-01-29T13:57:44.695822Z"
    }
   },
   "outputs": [],
   "source": [
    "##Runs the test images on the hopfield nework to generate test labels\n",
    "\n",
    "ypred=[]## Stores the generated labels for each test image\n",
    "for i in range(len(ytest)):\n",
    "    p = xtest[i]\n",
    "    for k in range(1):\n",
    "        p = network_evolution(p,weights)\n",
    "    \n",
    "    ypred.append(prediction(p))\n"
   ]
  },
  {
   "cell_type": "markdown",
   "id": "4c4241b0",
   "metadata": {},
   "source": [
    "### Micro parameters take true positive , false negative and false positive for all classes together\n",
    "\n",
    "### Macro parameter calculates for each class individually and then averages it all to produce single values"
   ]
  },
  {
   "cell_type": "code",
   "execution_count": 20,
   "id": "51c42c26",
   "metadata": {
    "ExecuteTime": {
     "end_time": "2022-01-29T14:05:27.984996Z",
     "start_time": "2022-01-29T14:05:27.249599Z"
    }
   },
   "outputs": [
    {
     "name": "stdout",
     "output_type": "stream",
     "text": [
      "Confusion Matrix\n",
      " [[ 0 34  0  0  0  0  0  0  0 16]\n",
      " [ 0 27  0  0  0  0  0  0  0 23]\n",
      " [ 0 33  0  0  0  0  0  0  0 17]\n",
      " [ 0 15  0  0  0  0  0  0  0 35]\n",
      " [ 0 24  0  0  0  0  0  0  0 26]\n",
      " [ 0 30  0  0  0  0  0  0  0 20]\n",
      " [ 0 32  0  0  0  0  0  0  0 18]\n",
      " [ 0 13  0  0  0  0  0  0  0 37]\n",
      " [ 0 12  0  0  0  0  0  0  0 38]\n",
      " [ 0 12  0  0  0  0  0  0  0 38]]\n",
      "\n",
      "Accuracy: 0.13\n",
      "\n",
      "\n",
      "Micro Precision: 0.13\n",
      "Micro Recall: 0.13\n",
      "Micro F1-score: 0.13\n",
      "\n",
      "\n",
      "Macro Precision: 0.0258\n",
      "Macro Recall: 0.13\n",
      "Macro F1-score: 0.043\n",
      "\n",
      "Classification Report\n",
      "\n",
      "               precision    recall  f1-score   support\n",
      "\n",
      "           0       0.00      0.00      0.00        50\n",
      "           1       0.12      0.54      0.19        50\n",
      "           2       0.00      0.00      0.00        50\n",
      "           3       0.00      0.00      0.00        50\n",
      "           4       0.00      0.00      0.00        50\n",
      "           5       0.00      0.00      0.00        50\n",
      "           6       0.00      0.00      0.00        50\n",
      "           7       0.00      0.00      0.00        50\n",
      "           8       0.00      0.00      0.00        50\n",
      "           9       0.14      0.76      0.24        50\n",
      "\n",
      "    accuracy                           0.13       500\n",
      "   macro avg       0.03      0.13      0.04       500\n",
      "weighted avg       0.03      0.13      0.04       500\n",
      "\n"
     ]
    }
   ],
   "source": [
    "##Generates performance metrics of hopfield network like recall , precission and F-score using true and predicted labels for test set\n",
    "\n",
    "from sklearn.metrics import *\n",
    "import warnings\n",
    "warnings.filterwarnings('ignore')\n",
    "\n",
    "confmat = confusion_matrix(ytest, ypred) ## No of right and wrong predicted labels for each class\n",
    "\n",
    "print('Confusion Matrix\\n',confmat)\n",
    "\n",
    "\n",
    "print('\\nAccuracy:',np.round(accuracy_score(ytest, ypred),4))\n",
    "\n",
    "print('\\n\\nMicro Precision:',np.round(precision_score(ytest, ypred, average='micro'),4))\n",
    "print('Micro Recall:',np.round(recall_score(ytest, ypred, average='micro'),4))\n",
    "print('Micro F1-score:',np.round(f1_score(ytest, ypred, average='micro'),4))\n",
    "\n",
    "print('\\n\\nMacro Precision:',np.round(precision_score(ytest, ypred, average='macro'),4))\n",
    "print('Macro Recall:',np.round(recall_score(ytest, ypred, average='macro'),4))\n",
    "print('Macro F1-score:',np.round(f1_score(ytest, ypred, average='macro'),4))\n",
    "\n",
    "\n",
    "print('\\nClassification Report\\n\\n',classification_report(ytest, ypred))"
   ]
  },
  {
   "cell_type": "markdown",
   "id": "6c8a4906",
   "metadata": {},
   "source": [
    "## Comparision with deep and classical learning models\n",
    "\n",
    "### As we can see that F-score for Hopsfield Network is in range of 0.1 to 0.15 generally with only one label being predicted for all test samples which is not very good.\n",
    "\n",
    "### For Classical and Deep learning models the accuracy  is range of 98 to 99.79 % which is much better than aaccuracy of 10 - 15 % we are getting for our Hopsfield Network.\n",
    "\n",
    "[Reference Link1](http://rodrigob.github.io/are_we_there_yet/build/classification_datasets_results.html)\n",
    "[Reference Link2](https://github.com/hwalsuklee/tensorflow-mnist-cnn)\n",
    "[Reference Link3](https://github.com/ksopyla/svm_mnist_digit_classification)\n",
    "\n",
    "## Advantages over other classical and deep learning models\n",
    "\n",
    "<ol>\n",
    "    <li>Smaller Training Time</li>\n",
    "    <li>Simpler to understand and implement</li>\n",
    "    <li>Not very memory intensive</li>\n",
    "</ol>\n",
    "\n",
    "## Disadvantages over other classical and deep learning models\n",
    "\n",
    "<ol>\n",
    "    <li>Not very accurate classifier</li>\n",
    "    <li>No of samples or patterns that can be effectively learnt are limited</li>\n",
    "    <li>Cannot differentiate between slightly to moderately different patterns</li>\n",
    "    <li>LIimited to only +1/-1, therefore can lead to data loss in cases of shading or colour patterns</li>\n",
    "</ol>"
   ]
  }
 ],
 "metadata": {
  "kernelspec": {
   "display_name": "Python 3",
   "language": "python",
   "name": "python3"
  },
  "language_info": {
   "codemirror_mode": {
    "name": "ipython",
    "version": 3
   },
   "file_extension": ".py",
   "mimetype": "text/x-python",
   "name": "python",
   "nbconvert_exporter": "python",
   "pygments_lexer": "ipython3",
   "version": "3.8.8"
  },
  "varInspector": {
   "cols": {
    "lenName": 16,
    "lenType": 16,
    "lenVar": 40
   },
   "kernels_config": {
    "python": {
     "delete_cmd_postfix": "",
     "delete_cmd_prefix": "del ",
     "library": "var_list.py",
     "varRefreshCmd": "print(var_dic_list())"
    },
    "r": {
     "delete_cmd_postfix": ") ",
     "delete_cmd_prefix": "rm(",
     "library": "var_list.r",
     "varRefreshCmd": "cat(var_dic_list()) "
    }
   },
   "types_to_exclude": [
    "module",
    "function",
    "builtin_function_or_method",
    "instance",
    "_Feature"
   ],
   "window_display": false
  }
 },
 "nbformat": 4,
 "nbformat_minor": 5
}
