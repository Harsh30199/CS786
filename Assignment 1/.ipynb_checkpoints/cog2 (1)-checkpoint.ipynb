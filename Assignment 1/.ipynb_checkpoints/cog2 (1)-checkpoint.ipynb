{
 "cells": [
  {
   "cell_type": "code",
   "execution_count": 3,
   "metadata": {
    "colab": {
     "base_uri": "https://localhost:8080/",
     "height": 702
    },
    "id": "6IX9MUQOnIUx",
    "outputId": "c78d8d49-5567-44e6-8c82-255d7ad46ccc"
   },
   "outputs": [
    {
     "name": "stdout",
     "output_type": "stream",
     "text": [
      "Requirement already satisfied: neurodynex3 in /usr/local/lib/python3.7/dist-packages (1.0.3)\n",
      "Requirement already satisfied: matplotlib in /usr/local/lib/python3.7/dist-packages (from neurodynex3) (3.2.2)\n",
      "Requirement already satisfied: brian2==2.3 in /usr/local/lib/python3.7/dist-packages (from neurodynex3) (2.3)\n",
      "Requirement already satisfied: setuptools-scm in /usr/local/lib/python3.7/dist-packages (from neurodynex3) (6.4.2)\n",
      "Requirement already satisfied: mock in /usr/local/lib/python3.7/dist-packages (from neurodynex3) (4.0.3)\n",
      "Requirement already satisfied: nose in /usr/local/lib/python3.7/dist-packages (from neurodynex3) (1.3.7)\n",
      "Requirement already satisfied: setuptools in /usr/local/lib/python3.7/dist-packages (from neurodynex3) (57.4.0)\n",
      "Requirement already satisfied: scipy in /usr/local/lib/python3.7/dist-packages (from neurodynex3) (1.4.1)\n",
      "Requirement already satisfied: mpmath in /usr/local/lib/python3.7/dist-packages (from neurodynex3) (1.2.1)\n",
      "Requirement already satisfied: numpy in /usr/local/lib/python3.7/dist-packages (from neurodynex3) (1.19.5)\n",
      "Requirement already satisfied: jinja2>=2.7 in /usr/local/lib/python3.7/dist-packages (from brian2==2.3->neurodynex3) (2.11.3)\n",
      "Requirement already satisfied: pyparsing in /usr/local/lib/python3.7/dist-packages (from brian2==2.3->neurodynex3) (3.0.7)\n",
      "Requirement already satisfied: cython>=0.29 in /usr/local/lib/python3.7/dist-packages (from brian2==2.3->neurodynex3) (0.29.26)\n",
      "Requirement already satisfied: sympy>=1.2 in /usr/local/lib/python3.7/dist-packages (from brian2==2.3->neurodynex3) (1.7.1)\n",
      "Requirement already satisfied: future in /usr/local/lib/python3.7/dist-packages (from brian2==2.3->neurodynex3) (0.16.0)\n",
      "Requirement already satisfied: MarkupSafe>=0.23 in /usr/local/lib/python3.7/dist-packages (from jinja2>=2.7->brian2==2.3->neurodynex3) (2.0.1)\n",
      "Requirement already satisfied: python-dateutil>=2.1 in /usr/local/lib/python3.7/dist-packages (from matplotlib->neurodynex3) (2.8.2)\n",
      "Requirement already satisfied: kiwisolver>=1.0.1 in /usr/local/lib/python3.7/dist-packages (from matplotlib->neurodynex3) (1.3.2)\n",
      "Requirement already satisfied: cycler>=0.10 in /usr/local/lib/python3.7/dist-packages (from matplotlib->neurodynex3) (0.11.0)\n",
      "Requirement already satisfied: six>=1.5 in /usr/local/lib/python3.7/dist-packages (from python-dateutil>=2.1->matplotlib->neurodynex3) (1.15.0)\n",
      "Requirement already satisfied: packaging>=20.0 in /usr/local/lib/python3.7/dist-packages (from setuptools-scm->neurodynex3) (21.3)\n",
      "Requirement already satisfied: tomli>=1.0.0 in /usr/local/lib/python3.7/dist-packages (from setuptools-scm->neurodynex3) (2.0.0)\n",
      "Requirement already satisfied: mnist in /usr/local/lib/python3.7/dist-packages (0.2.2)\n",
      "Requirement already satisfied: numpy in /usr/local/lib/python3.7/dist-packages (from mnist) (1.19.5)\n",
      "\n"
     ]
    },
    {
     "data": {
      "image/png": "[encoded data removed]",
      "text/plain": [
       "<Figure size 432x288 with 1 Axes>"
      ]
     },
     "metadata": {
      "needs_background": "light"
     },
     "output_type": "display_data"
    }
   ],
   "source": [
    "!pip install neurodynex3\n",
    "from neurodynex3.hopfield_network import network, pattern_tools, plot_tools\n",
    "from numpy.core.fromnumeric import argmax\n",
    "\n",
    "\n",
    "!pip install mnist \n",
    "import mnist\n",
    "\n",
    "import numpy as np\n",
    "from numpy import linalg as lin\n",
    "from copy import deepcopy\n",
    "import random\n",
    "\n",
    "import matplotlib.pyplot as plt\n",
    "\n",
    "\n",
    "\n",
    "#for accuracy and f1 score of hopfield network\n",
    "from sklearn.metrics import f1_score\n",
    "from scipy.ndimage import interpolation\n",
    "\n"
   ]
  },
  {
   "cell_type": "markdown",
   "metadata": {
    "id": "dbxqWOyy_KS_"
   },
   "source": [
    "#Q1\n"
   ]
  },
  {
   "cell_type": "code",
   "execution_count": 4,
   "metadata": {
    "id": "wY7U7SJusltc"
   },
   "outputs": [],
   "source": [
    "#creates the number of pattern for given size \n",
    "def get_pattern(size, no_pattern):\n",
    "    plist = np.zeros([no_pattern,size,size])\n",
    "\n",
    "    for i in range(no_pattern):\n",
    "        for j in range(size):\n",
    "            for k in range(size):\n",
    "                if random.random() > 0.5:\n",
    "                    plist[i][j][k] = 1\n",
    "                else:\n",
    "                    plist[i][j][k] = -1\n",
    "\n",
    "    return plist\n",
    "\n",
    "#petrub pattern - randomly flips the pattern\n",
    "def perturb_pattern(pattern, number):\n",
    "    size = len(pattern)\n",
    "    pattern = pattern.flatten()\n",
    "    random_list = random.sample(range(0, len(pattern)), number)\n",
    "    for i in random_list:\n",
    "        pattern[i] = pattern[i]*-1\n",
    "    pattern = np.reshape(pattern, (size,size))\n",
    "    return pattern\n",
    "\n",
    "#calculating weights - trains the weights for hopfield network\n",
    "def calculate_weigths(plist, pattern_size):\n",
    "    size = pattern_size**2\n",
    "    wgt = np.zeros([size,size])\n",
    "    for k in plist:\n",
    "        state = k.flatten()\n",
    "        temp = np.zeros([size,size])\n",
    "        for i in range(size):\n",
    "            for j in range(size):\n",
    "                if i == j :\n",
    "                    temp[i][j] = 0\n",
    "                else: \n",
    "                    temp[i][j] = state[i]*state[j]\n",
    "                    temp[j][i] = state[i]*state[j]\n",
    "        wgt = wgt + temp\n",
    "    #print(wgt)\n",
    "    return wgt/size\n",
    "\n",
    "#network evalution -\n",
    "def network_evolution(S,weights,t_steps):\n",
    "    shape = S.shape\n",
    "    temp = S.flatten()\n",
    "    states = [S]\n",
    "    for i in range(t_steps):\n",
    "        temp = np.sign(np.sum(weights*temp, axis=1))\n",
    "        states.append(temp.reshape(shape))\n",
    "    temp = temp.reshape(shape)\n",
    "    return temp,states\n",
    "\n",
    "#overlap funtion \n",
    "'''def overlap_computation(plist, states):\n",
    "    overlap = []\n",
    "    size = len(plist[0])\n",
    "    m = 0\n",
    "    for i in plist:\n",
    "        for j in range(size):\n",
    "            for k in range(size):\n",
    "                m = m + states[j][k]*i[j][k]\n",
    "        m = m/(size**2)\n",
    "        overlap.append(m)\n",
    "    return overlap'''\n",
    "\n",
    "#overlap uses cosine similarites\n",
    "def overlap_computation(plist,states):\n",
    "    overlap = []\n",
    "    size = len(plist[0])\n",
    "    m = 0\n",
    "    temp = states.flatten()\n",
    "    for i in plist:\n",
    "        temp2 = i.flatten()\n",
    "        m = np.dot(temp,temp2)/lin.norm(temp)/lin.norm(temp2)\n",
    "        overlap.append(m)\n",
    "    return overlap"
   ]
  },
  {
   "cell_type": "code",
   "execution_count": 5,
   "metadata": {
    "colab": {
     "base_uri": "https://localhost:8080/",
     "height": 878
    },
    "id": "cYrdYTVas4Az",
    "outputId": "49068eed-5a28-4a35-f9d9-c6b9d74094cb"
   },
   "outputs": [
    {
     "data": {
      "image/png": "[encoded data removed]",
      "text/plain": [
       "<Figure size 432x288 with 5 Axes>"
      ]
     },
     "metadata": {
      "needs_background": "light"
     },
     "output_type": "display_data"
    },
    {
     "data": {
      "image/png": "[encoded data removed]",
      "text/plain": [
       "<Figure size 432x288 with 1 Axes>"
      ]
     },
     "metadata": {
      "needs_background": "light"
     },
     "output_type": "display_data"
    },
    {
     "data": {
      "image/png": "[encoded data removed]",
      "text/plain": [
       "<Figure size 432x288 with 1 Axes>"
      ]
     },
     "metadata": {
      "needs_background": "light"
     },
     "output_type": "display_data"
    },
    {
     "name": "stdout",
     "output_type": "stream",
     "text": [
      "\n"
     ]
    },
    {
     "data": {
      "image/png": "[encoded data removed]",
      "text/plain": [
       "<Figure size 432x288 with 8 Axes>"
      ]
     },
     "metadata": {
      "needs_background": "light"
     },
     "output_type": "display_data"
    },
    {
     "name": "stdout",
     "output_type": "stream",
     "text": [
      "1.0\n"
     ]
    }
   ],
   "source": [
    "def hopfield_net(size=5,number_of_pattern=5,flips=4,steps=5):\n",
    "    plist = get_pattern(size,number_of_pattern)\n",
    "    plot_tools.plot_pattern_list(plist)\n",
    "    \n",
    "    a = deepcopy(plist[0])\n",
    "    S = perturb_pattern(a,flips)\n",
    "    \n",
    "    wgt = calculate_weigths(plist,size)\n",
    "    k,states = network_evolution(S,wgt,steps)\n",
    "    \n",
    "    plot_tools.plot_pattern(S)\n",
    "    plot_tools.plot_pattern(k)\n",
    "    plot_tools.plot_state_sequence_and_overlap(states, plist, reference_idx=0, suptitle=\"Network dynamics\")\n",
    "    m = overlap_computation([plist[0]],k)[0]\n",
    "    print(m)\n",
    "\n",
    "hopfield_net(size=10,flips=30,steps=3)"
   ]
  },
  {
   "cell_type": "markdown",
   "metadata": {
    "id": "eLtMhbi9GUdL"
   },
   "source": [
    "#Q2"
   ]
  },
  {
   "cell_type": "code",
   "execution_count": 7,
   "metadata": {
    "colab": {
     "base_uri": "https://localhost:8080/",
     "height": 282
    },
    "id": "iWvLT7GstxwR",
    "outputId": "63e800cd-3489-4588-cd48-b0caa6bbe837"
   },
   "outputs": [
    {
     "data": {
      "text/plain": [
       "<matplotlib.legend.Legend at 0x7f5dd4829250>"
      ]
     },
     "execution_count": 7,
     "metadata": {},
     "output_type": "execute_result"
    },
    {
     "data": {
      "image/png": "[encoded data removed]",
      "text/plain": [
       "<Figure size 432x288 with 1 Axes>"
      ]
     },
     "metadata": {
      "needs_background": "light"
     },
     "output_type": "display_data"
    }
   ],
   "source": [
    "fig , ax  = plt.subplots(1)\n",
    "\n",
    "for i in range(5,50,5):\n",
    "    final_y = []\n",
    "    final_x = []\n",
    "    for j in range(5,50,5):\n",
    "        sum = 0 \n",
    "        for _ in range(10):\n",
    "            plist = get_pattern(10,i)\n",
    "            a = deepcopy(plist[0])\n",
    "            S = perturb_pattern(a,j)\n",
    "            wgt = calculate_weigths(plist,10)\n",
    "            k,states = network_evolution(S,wgt,5)\n",
    "            m = overlap_computation([plist[0]],k)[0]\n",
    "            sum = sum + m\n",
    "        final_y.append(sum/10)\n",
    "        final_x.append(j)\n",
    "    ax.plot(final_x,final_y,label=i)\n",
    "\n",
    "ax.legend(bbox_to_anchor=(1,1))"
   ]
  },
  {
   "cell_type": "code",
   "execution_count": 8,
   "metadata": {
    "colab": {
     "base_uri": "https://localhost:8080/",
     "height": 300
    },
    "id": "HfxtXpNr4abJ",
    "outputId": "31105d72-173d-4c39-f6bb-6f7202fc34a8"
   },
   "outputs": [
    {
     "name": "stderr",
     "output_type": "stream",
     "text": [
      "No handles with labels found to put in legend.\n"
     ]
    },
    {
     "data": {
      "text/plain": [
       "<matplotlib.legend.Legend at 0x7f5dd47af190>"
      ]
     },
     "execution_count": 8,
     "metadata": {},
     "output_type": "execute_result"
    },
    {
     "data": {
      "image/png": "[encoded data removed]",
      "text/plain": [
       "<Figure size 432x288 with 1 Axes>"
      ]
     },
     "metadata": {
      "needs_background": "light"
     },
     "output_type": "display_data"
    }
   ],
   "source": [
    "#number of patterns increased \n",
    "fig , ax  = plt.subplots(1)\n",
    "final_y = []\n",
    "final_x = []\n",
    "for j in range(5,50):\n",
    "    sum = 0 \n",
    "    for _ in range(10):\n",
    "        plist = get_pattern(10,j)\n",
    "        a = deepcopy(plist[0])\n",
    "        S = perturb_pattern(a,15)\n",
    "        wgt = calculate_weigths(plist,10)\n",
    "        k,states = network_evolution(S,wgt,5)\n",
    "        m = overlap_computation([plist[0]],k)[0]\n",
    "        sum = sum + m\n",
    "    final_y.append(sum/10)\n",
    "    final_x.append(j)\n",
    "ax.plot(final_x,final_y)\n",
    "\n",
    "ax.legend(bbox_to_anchor=(1,1))"
   ]
  },
  {
   "cell_type": "code",
   "execution_count": null,
   "metadata": {
    "id": "Wk86HtY85r-C"
   },
   "outputs": [],
   "source": [
    "fig , ax  = plt.subplots(1)\n",
    "final_y = []\n",
    "final_x = []\n",
    "for j in range(5,10):\n",
    "    sum = 0 \n",
    "    for _ in range(10):\n",
    "        plist = get_pattern(j,10)\n",
    "        a = deepcopy(plist[0])\n",
    "        S = perturb_pattern(a,15)\n",
    "        wgt = calculate_weigths(plist,j)\n",
    "        k,states = network_evolution(S,wgt,5)\n",
    "        m = overlap_computation([plist[0]],k)[0]\n",
    "        sum = sum + m\n",
    "    final_y.append(sum/10)\n",
    "    final_x.append(j)\n",
    "ax.plot(final_x,final_y)\n",
    "\n",
    "ax.legend(bbox_to_anchor=(1,1))"
   ]
  },
  {
   "cell_type": "code",
   "execution_count": null,
   "metadata": {
    "id": "nACiJvI62B1M"
   },
   "outputs": [],
   "source": [
    "x_images = mnist.train_images().astype(int)\n",
    "y_images = mnist.test_images().astype(int)\n",
    "x_labels = mnist.train_labels()\n",
    "y_labels = mnist.test_labels()\n",
    "\n",
    "def mnist_convert(x_images,y_images):\n",
    "    x_images[x_images<=127]=-1\n",
    "    x_images[x_images>127]=1\n",
    "    y_images[y_images<=127]=-1\n",
    "    y_images[y_images>127]=1\n",
    "    return x_images,y_images"
   ]
  },
  {
   "cell_type": "code",
   "execution_count": null,
   "metadata": {
    "id": "jexkT14X7lza"
   },
   "outputs": [],
   "source": [
    "def mnist_data(x_labels,x_images,y_labels,y_images,test_number = 5,train_number=5):\n",
    "    train_images = []\n",
    "    train_labels = []\n",
    "    test_images = []\n",
    "    test_labels = []\n",
    "\n",
    "    for i in range(0,10):\n",
    "        a = np.where(x_labels==i)[0][:train_number]\n",
    "        train_labels.extend(x_labels[a])\n",
    "        train_images.extend(x_images[a])\n",
    "        b = np.where(y_labels==i)[0][:test_number]\n",
    "        test_labels.extend(y_labels[b])\n",
    "        test_images.extend(y_images[b])\n",
    "    return train_labels,train_images,test_labels,test_images\n",
    "\n",
    "train_labels,train_images,test_labels,test_images = mnist_data(x_labels,x_images,y_labels,y_images,test_number=10,train_number=4)"
   ]
  },
  {
   "cell_type": "code",
   "execution_count": null,
   "metadata": {
    "id": "WTLWwSPhXSKk"
   },
   "outputs": [],
   "source": [
    "def classifer(test_images,train_images,steps,size):\n",
    "    wgt = calculate_weigths(train_images,size)\n",
    "    y_pred = []\n",
    "    for i in range(len(test_images)):\n",
    "        k,states = network_evolution(test_images[i],wgt,steps)\n",
    "        #label = overlap_computation(train_images,k)\n",
    "        label = pattern_tools.compute_overlap_list(k,train_images)\n",
    "        index = argmax(label)\n",
    "        y_pred.append(train_labels[index])    \n",
    "    return y_pred\n"
   ]
  },
  {
   "cell_type": "code",
   "execution_count": null,
   "metadata": {
    "id": "QBEcrjyCYGWj"
   },
   "outputs": [],
   "source": [
    "#f1_score(y_pred,test_labels,average='micro')"
   ]
  },
  {
   "cell_type": "code",
   "execution_count": null,
   "metadata": {
    "id": "hRHM2oLsYue6"
   },
   "outputs": [],
   "source": [
    "plot_tools.plot_pattern(k)"
   ]
  },
  {
   "cell_type": "code",
   "execution_count": null,
   "metadata": {
    "id": "Nwo3mthkYz0e"
   },
   "outputs": [],
   "source": [
    "plot_tools.plot_pattern(k)\n",
    "plot_tools.plot_pattern(test_images[0])\n",
    "plot_tools.plot_pattern_list(states)\n",
    "k.shape"
   ]
  },
  {
   "cell_type": "code",
   "execution_count": null,
   "metadata": {
    "id": "AefmNOR0jYZW"
   },
   "outputs": [],
   "source": [
    "y_pred"
   ]
  },
  {
   "cell_type": "code",
   "execution_count": null,
   "metadata": {
    "id": "NfVi3hiNHw00"
   },
   "outputs": [],
   "source": [
    "#source - https://fsix.github.io/mnist/Deskewing.html\n",
    "\n",
    "def moments(image):\n",
    "    c0,c1 = np.mgrid[:image.shape[0],:image.shape[1]] # A trick in numPy to create a mesh grid\n",
    "    totalImage = np.sum(image) #sum of pixels\n",
    "    m0 = np.sum(c0*image)/totalImage #mu_x\n",
    "    m1 = np.sum(c1*image)/totalImage #mu_y\n",
    "    m00 = np.sum((c0-m0)**2*image)/totalImage #var(x)\n",
    "    m11 = np.sum((c1-m1)**2*image)/totalImage #var(y)\n",
    "    m01 = np.sum((c0-m0)*(c1-m1)*image)/totalImage #covariance(x,y)\n",
    "    mu_vector = np.array([m0,m1]) # Notice that these are \\mu_x, \\mu_y respectively\n",
    "    covariance_matrix = np.array([[m00,m01],[m01,m11]]) # Do you see a similarity between the covariance matrix\n",
    "    return mu_vector, covariance_matrix\n",
    "\n",
    "def deskew(image):\n",
    "    c,v = moments(image)\n",
    "    alpha = v[0,1]/v[0,0]\n",
    "    affine = np.array([[1,0],[alpha,1]])\n",
    "    ocenter = np.array(image.shape)/2.0\n",
    "    offset = c-np.dot(affine,ocenter)\n",
    "    return interpolation.affine_transform(image,affine,offset=offset)\n"
   ]
  },
  {
   "cell_type": "code",
   "execution_count": null,
   "metadata": {
    "id": "xV2UHSeeIMgO"
   },
   "outputs": [],
   "source": [
    "def mnist_convert(x_images,threshold):\n",
    "    a = []\n",
    "    for i in range(len(x_images)):\n",
    "        a.append(deskew(x_images[i]))\n",
    "    a = np.array(a)\n",
    "    a = a[:,7:21,7:21]\n",
    "    a[a<threshold] = -1\n",
    "    a[a>=threshold] = 1\n",
    "    return a\n",
    "\n",
    "x_deskew = mnist_convert(x_images,80)\n",
    "y_deskew = mnist_convert(y_images,80)"
   ]
  },
  {
   "cell_type": "code",
   "execution_count": null,
   "metadata": {
    "id": "YnXNCd_aT__4"
   },
   "outputs": [],
   "source": [
    "plot_tools.plot_pattern_list(train_images)"
   ]
  },
  {
   "cell_type": "code",
   "execution_count": null,
   "metadata": {
    "id": "mr7bqFnqUA0K"
   },
   "outputs": [],
   "source": [
    "train_labels,train_images,test_labels,test_images = mnist_data(x_labels,x_deskew,y_labels,y_deskew,test_number=10000,train_number=1)"
   ]
  },
  {
   "cell_type": "code",
   "execution_count": null,
   "metadata": {
    "id": "Ke_qh_CueKsu"
   },
   "outputs": [],
   "source": [
    "y_pred = classifer(test_images,train_images,steps=0,size =14)"
   ]
  },
  {
   "cell_type": "code",
   "execution_count": null,
   "metadata": {
    "id": "HHTEGVtajpc6"
   },
   "outputs": [],
   "source": [
    "from sklearn.metrics import accuracy_score\n",
    "accuracy_score(test_labels, y_pred)"
   ]
  },
  {
   "cell_type": "code",
   "execution_count": null,
   "metadata": {
    "id": "xuonLMX0kHDo"
   },
   "outputs": [],
   "source": []
  },
  {
   "cell_type": "code",
   "execution_count": null,
   "metadata": {
    "id": "mZ62Ne1Kk7yY"
   },
   "outputs": [],
   "source": []
  }
 ],
 "metadata": {
  "colab": {
   "collapsed_sections": [],
   "name": "cog2.ipynb",
   "provenance": []
  },
  "kernelspec": {
   "display_name": "Python 3",
   "language": "python",
   "name": "python3"
  },
  "language_info": {
   "codemirror_mode": {
    "name": "ipython",
    "version": 3
   },
   "file_extension": ".py",
   "mimetype": "text/x-python",
   "name": "python",
   "nbconvert_exporter": "python",
   "pygments_lexer": "ipython3",
   "version": "3.8.8"
  },
  "varInspector": {
   "cols": {
    "lenName": 16,
    "lenType": 16,
    "lenVar": 40
   },
   "kernels_config": {
    "python": {
     "delete_cmd_postfix": "",
     "delete_cmd_prefix": "del ",
     "library": "var_list.py",
     "varRefreshCmd": "print(var_dic_list())"
    },
    "r": {
     "delete_cmd_postfix": ") ",
     "delete_cmd_prefix": "rm(",
     "library": "var_list.r",
     "varRefreshCmd": "cat(var_dic_list()) "
    }
   },
   "types_to_exclude": [
    "module",
    "function",
    "builtin_function_or_method",
    "instance",
    "_Feature"
   ],
   "window_display": false
  }
 },
 "nbformat": 4,
 "nbformat_minor": 1
}
