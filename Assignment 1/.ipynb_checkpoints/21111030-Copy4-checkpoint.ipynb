{
 "cells": [
  {
   "cell_type": "markdown",
   "id": "based-kelly",
   "metadata": {},
   "source": [
    "## Hopfield network model"
   ]
  },
  {
   "cell_type": "markdown",
   "id": "accessory-generic",
   "metadata": {},
   "source": [
    "In this simplified Hopfied model, each neuron can only take values +1 or -1. The network stores pixel patterns, and attempts to retrieve them given some cue in the form of a part of the original pattern used to set an initial state $S_i(t=0)$ for every neuron in the network. The network activation of all the neurons evolves as follows\n",
    "\n",
    "$$S_i(t+1) = sgn\\left(\\sum_j{w_{ij} S_j(t)}\\right), $$\n",
    "\n",
    "where the weight of every synaptic connection is calculated as,\n",
    "\n",
    "$$w_{ij} = \\frac{1}{N} \\sum_{\\mu}{p_i^\\mu p_j^\\mu}, $$\n",
    "\n",
    "where in turn, $N$ is the number of neurons, and $p_i^\\mu$ is the state of the $i^{th}$ neuron for encoding pattern $\\mu$."
   ]
  },
  {
   "cell_type": "markdown",
   "id": "false-earth",
   "metadata": {},
   "source": [
    "The code below is taken from this [link](https://neuronaldynamics-exercises.readthedocs.io/en/latest/exercises/hopfield-network.html). Follow the accompanying exercises to be better prepared for your assignment. Remember to install all needed libraries before trying to run it. "
   ]
  },
  {
   "cell_type": "markdown",
   "id": "upset-embassy",
   "metadata": {},
   "source": [
    "## Our own Hopfield network model"
   ]
  },
  {
   "cell_type": "markdown",
   "id": "spectacular-morocco",
   "metadata": {},
   "source": [
    "You will write your own code to build a Hopfield network. I am leaving sample expected results below as a guide. "
   ]
  },
  {
   "cell_type": "markdown",
   "id": "involved-batman",
   "metadata": {},
   "source": [
    "## Assignment 1"
   ]
  },
  {
   "cell_type": "markdown",
   "id": "uniform-samuel",
   "metadata": {},
   "source": [
    "Q1. Can you write you own Hopfield network model that works more or less like the one simulated above? (20 points)\n",
    "\n",
    "Q2. Run the model with different parameters to figure out how the model's capacity to retrieve the correct pattern in response to a cue deteriorates as a function of \n",
    "(a) the informativeness of the cue\n",
    "(b) the number of other patterns stored in the network\n",
    "(c) the size of the network\n",
    "\n",
    "Present your answers with plots and/or math. (20 points)\n",
    "\n",
    "Q3. Can you write a function that converts MNIST digit [data](https://gitlab.com/datapythonista/mnist) to the sort of patterns used in this simulation? (20 points)\n",
    "\n",
    "Q4. Can you write an MNIST classifier using the Hopfield network?. Can you characterize its performance using F-score, and compare with [classical](https://github.com/ksopyla/svm_mnist_digit_classification) and [deep](https://github.com/hwalsuklee/tensorflow-mnist-cnn) supervised learning methods? Remember that you can always use multiple samples of the same digit even for the Hopfield network classifier. Summarize your sense of the merits and demerits of using a Hopfield network as a classifier (40 points) "
   ]
  },
  {
   "cell_type": "markdown",
   "id": "b4a3fe79",
   "metadata": {},
   "source": [
    "# Q1"
   ]
  },
  {
   "cell_type": "code",
   "execution_count": 1,
   "id": "a4969bfd",
   "metadata": {
    "ExecuteTime": {
     "end_time": "2022-01-31T17:35:47.434754Z",
     "start_time": "2022-01-31T17:35:42.995909Z"
    }
   },
   "outputs": [],
   "source": [
    "import numpy as np\n",
    "import matplotlib.pyplot as plt\n",
    "from neurodynex3.hopfield_network import network, pattern_tools, plot_tools\n",
    "from copy import deepcopy\n",
    "from brian2 import *\n",
    "#Sets the plots to be displayed and saved in notebook\n",
    "%matplotlib inline \n",
    "plt.rcParams[\"figure.figsize\"] = (12,7)"
   ]
  },
  {
   "cell_type": "code",
   "execution_count": 2,
   "id": "cbe9d1e8",
   "metadata": {
    "ExecuteTime": {
     "end_time": "2022-01-31T17:35:47.466667Z",
     "start_time": "2022-01-31T17:35:47.436748Z"
    }
   },
   "outputs": [],
   "source": [
    "##Function to generate numpat number of random patterns of size psize x psize \n",
    "def get_patterns(psize,numpat):\n",
    "    patlist =[] ##Empty list to store patterns\n",
    "    for _ in range(numpat):\n",
    "        newpat = np.array([[0 for a in range(psize)] for b in range(psize)]) ##Initialize a psize*psize array with 0\n",
    "        for i in range(psize):\n",
    "            for j in range(psize):\n",
    "                newpat[i][j] = 1 if np.random.randint(1,10)<6 else -1 ##Randomly populate array with 1 and -1 with equal probability\n",
    "        patlist.append(newpat)\n",
    "    return patlist\n",
    "\n",
    "##Function to distort or complement nflips number of pixels in passed pattern\n",
    "def perturb_pattern(pattern,nflips):\n",
    "    indexes = []\n",
    "    while(len(indexes)<nflips): ##Generate nflips random pixel coordinates \n",
    "        a,b = (np.random.randint(0,len(pattern)),np.random.randint(0,len(pattern)))\n",
    "        if (a,b) not in indexes:\n",
    "            indexes.append((a,b))\n",
    "    for a,b in indexes: ##Flip the random selected pixels\n",
    "        pattern[a][b] = -1 if pattern[a][b]== 1 else 1\n",
    "    return pattern\n",
    "\n",
    "##Function To calculate weights of each neuron with all other neurons of hopsfield network\n",
    "def calculate_weights(patlist,psize):\n",
    "    weights = np.array([[0 for i in range (psize*psize)] for j in range (psize*psize)]) ##initialize a s array of size no of neurons * no of neurons with 0\n",
    "    \n",
    "    ##Uses the  formula mentioned above to calculate weights \n",
    "    for p in patlist:\n",
    "        for i in range(psize*psize):\n",
    "            for j in range(psize*psize):\n",
    "                weights[i][j] += p[i//psize][i%psize]* p[j//psize][j%psize]\n",
    "    \n",
    "    weights = weights/(psize*psize)\n",
    "    return weights\n",
    "\n",
    "## Function to calculate new network state\n",
    "def network_evolution(pattern,weights):\n",
    "    newpat = deepcopy(pattern)\n",
    "    for i in range(len(weights)):\n",
    "        sum1 = 0\n",
    "        for j in range(len(weights)):\n",
    "            sum1+= (weights[i][j])*newpat[j//len(newpat)][j%len(newpat)]\n",
    "        newpat[i//len(newpat)][i%len(newpat)] = 1 if sum1>=0 else -1\n",
    "    return newpat"
   ]
  },
  {
   "cell_type": "code",
   "execution_count": 3,
   "id": "d28fd7e3",
   "metadata": {
    "ExecuteTime": {
     "end_time": "2022-01-31T17:35:48.946710Z",
     "start_time": "2022-01-31T17:35:47.468662Z"
    }
   },
   "outputs": [
    {
     "data": {
      "image/png": "[encoded data removed]",
      "text/plain": [
       "<Figure size 864x504 with 5 Axes>"
      ]
     },
     "metadata": {
      "needs_background": "light"
     },
     "output_type": "display_data"
    },
    {
     "data": {
      "image/png": "[encoded data removed]",
      "text/plain": [
       "<Figure size 864x504 with 1 Axes>"
      ]
     },
     "metadata": {
      "needs_background": "light"
     },
     "output_type": "display_data"
    },
    {
     "name": "stdout",
     "output_type": "stream",
     "text": [
      "\n"
     ]
    },
    {
     "data": {
      "image/png": "[encoded data removed]",
      "text/plain": [
       "<Figure size 864x504 with 12 Axes>"
      ]
     },
     "metadata": {
      "needs_background": "light"
     },
     "output_type": "display_data"
    }
   ],
   "source": [
    "plist = get_patterns(4,5) ##Gets 5 patterns of size 4*4\n",
    "\n",
    "\n",
    "cue = deepcopy(plist) ##Copies the patternlist to a new memory location\n",
    "\n",
    "p = perturb_pattern(cue[0],4) ##Change one pattern from original in 4 places  \n",
    "\n",
    "weights = calculate_weights(plist,4) ##Calculate weights for the network\n",
    "\n",
    "sequence = [p] ##Add modified pattern to network to sequence list to observe network performance\n",
    "\n",
    "for i  in range(5): ##Changes network state 5 times to retrieve original pattern from modified pattern\n",
    "    newpat = network_evolution(sequence[len(sequence)-1],weights)\n",
    "    sequence.append(newpat)\n",
    "\n",
    "plot_tools.plot_pattern_list(plist) ##Plots the randomly generated original patterns\n",
    "plot_tools.plot_pattern(p) ## Plots the modified pattern\n",
    "plot_tools.plot_state_sequence_and_overlap(sequence,plist,reference_idx=0) ##Plots the sequence in which network evolves to find original pattern"
   ]
  },
  {
   "cell_type": "code",
   "execution_count": 4,
   "id": "d481171f",
   "metadata": {
    "ExecuteTime": {
     "end_time": "2022-01-31T17:35:51.283459Z",
     "start_time": "2022-01-31T17:35:48.948703Z"
    }
   },
   "outputs": [
    {
     "data": {
      "image/png": "[encoded data removed]",
      "text/plain": [
       "<Figure size 864x504 with 6 Axes>"
      ]
     },
     "metadata": {
      "needs_background": "light"
     },
     "output_type": "display_data"
    },
    {
     "data": {
      "image/png": "[encoded data removed]",
      "text/plain": [
       "<Figure size 864x504 with 1 Axes>"
      ]
     },
     "metadata": {
      "needs_background": "light"
     },
     "output_type": "display_data"
    },
    {
     "name": "stdout",
     "output_type": "stream",
     "text": [
      "\n"
     ]
    },
    {
     "data": {
      "image/png": "[encoded data removed]",
      "text/plain": [
       "<Figure size 864x504 with 12 Axes>"
      ]
     },
     "metadata": {
      "needs_background": "light"
     },
     "output_type": "display_data"
    }
   ],
   "source": [
    "plist = get_patterns(15,6) ##Gets 6 patterns of size 15*15\n",
    "\n",
    "\n",
    "cue = deepcopy(plist) ##Copies the patternlist to a new memory location\n",
    "\n",
    "p = perturb_pattern(cue[0],100) ##Change one pattern from original in 4 places  \n",
    "\n",
    "weights = calculate_weights(plist,15) ##Calculate weights for the network\n",
    "\n",
    "sequence = [p] ##Add modified pattern to network to sequence list to observe network performance\n",
    "\n",
    "for i  in range(5): ##Changes network state 5 times to retrieve original pattern from modified pattern\n",
    "    newpat = network_evolution(sequence[len(sequence)-1],weights)\n",
    "    sequence.append(newpat)\n",
    "\n",
    "plot_tools.plot_pattern_list(plist) ##Plots the randomly generated original patterns\n",
    "plot_tools.plot_pattern(p) ## Plots the modified pattern\n",
    "plot_tools.plot_state_sequence_and_overlap(sequence,plist,reference_idx=0) ##Plots the sequence in which network evolves to find original pattern"
   ]
  },
  {
   "cell_type": "markdown",
   "id": "5fc74e7f",
   "metadata": {},
   "source": [
    "# Professor's Code"
   ]
  },
  {
   "cell_type": "code",
   "execution_count": null,
   "id": "e8a2f9a5",
   "metadata": {
    "ExecuteTime": {
     "start_time": "2022-01-31T17:35:43.012Z"
    }
   },
   "outputs": [
    {
     "data": {
      "image/png": "[encoded data removed]",
      "text/plain": [
       "<Figure size 864x504 with 5 Axes>"
      ]
     },
     "metadata": {
      "needs_background": "light"
     },
     "output_type": "display_data"
    },
    {
     "data": {
      "image/png": "[encoded data removed]",
      "text/plain": [
       "<Figure size 864x504 with 2 Axes>"
      ]
     },
     "metadata": {
      "needs_background": "light"
     },
     "output_type": "display_data"
    }
   ],
   "source": [
    "\n",
    "from neurodynex3.hopfield_network import network, pattern_tools, plot_tools\n",
    "\n",
    "pattern_size = 4\n",
    "\n",
    "# create an instance of the class HopfieldNetwork\n",
    "hopfield_net = network.HopfieldNetwork(nr_neurons= pattern_size**2)\n",
    "# instantiate a pattern factory\n",
    "factory = pattern_tools.PatternFactory(pattern_size, pattern_size)\n",
    "# create a checkerboard pattern and add it to the pattern list\n",
    "checkerboard = factory.create_checkerboard()\n",
    "pattern_list = [checkerboard]\n",
    "\n",
    "# add random patterns to the list\n",
    "pattern_list.extend(factory.create_random_pattern_list(nr_patterns=4, on_probability=0.5))\n",
    "plot_tools.plot_pattern_list(pattern_list)\n",
    "# how similar are the random patterns and the checkerboard? Check the overlaps\n",
    "overlap_matrix = pattern_tools.compute_overlap_matrix(pattern_list)\n",
    "plot_tools.plot_overlap_matrix(overlap_matrix)\n",
    "\n",
    "# let the hopfield network \"learn\" the patterns. Note: they are not stored\n",
    "# explicitly but only network weights are updated !\n",
    "hopfield_net.store_patterns(pattern_list)\n",
    "\n",
    "# create a noisy version of a pattern and use that to initialize the network\n",
    "noisy_init_state = pattern_tools.flip_n(checkerboard, nr_of_flips=4)\n",
    "hopfield_net.set_state_from_pattern(noisy_init_state)\n",
    "\n",
    "# from this initial state, let the network dynamics evolve.\n",
    "states = hopfield_net.run_with_monitoring(nr_steps=3)\n",
    "\n",
    "# each network state is a vector. reshape it to the same shape used to create the patterns.\n",
    "states_as_patterns = factory.reshape_patterns(states)\n",
    "# plot the states of the network\n",
    "plot_tools.plot_state_sequence_and_overlap(states_as_patterns, pattern_list, reference_idx=0, suptitle=\"Network dynamics\")\n"
   ]
  },
  {
   "cell_type": "code",
   "execution_count": null,
   "id": "b7429c77",
   "metadata": {
    "ExecuteTime": {
     "start_time": "2022-01-31T17:35:43.016Z"
    }
   },
   "outputs": [],
   "source": [
    "plist = get_patterns(4,5)\n",
    "#plot_tools.plot_pattern_list(plist)\n",
    "\n",
    "cue = deepcopy(plist)\n",
    "S = perturb_pattern(cue[0],3)\n",
    "wghts = calculate_weights(plist, pattern_size)\n",
    "\n",
    "state_list =[S]\n",
    "#state_list.append(S)\n",
    "#print(state_list)\n",
    "#plot_tools.plot_pattern(S)\n",
    "for i in range(3):\n",
    "    state_list.append(network_evolution(S,wghts))\n",
    "#    state_list.append(S)\n",
    "\n",
    "plot_tools.plot_pattern_list(plist)\n",
    "#print(state_list[0])\n",
    "plot_tools.plot_pattern(state_list[0])\n",
    "plot_tools.plot_state_sequence_and_overlap(state_list, plist, reference_idx=0, suptitle=\"Network dynamics\")"
   ]
  },
  {
   "cell_type": "markdown",
   "id": "f669a83c",
   "metadata": {},
   "source": [
    "# Q2"
   ]
  },
  {
   "cell_type": "markdown",
   "id": "e63f762e",
   "metadata": {},
   "source": [
    "## (A) Informativeness of Cue\n",
    "\n",
    "### We will observe effect of increasing no of flips on accuracy of hopsfield network"
   ]
  },
  {
   "cell_type": "code",
   "execution_count": null,
   "id": "9875f18c",
   "metadata": {
    "ExecuteTime": {
     "start_time": "2022-01-31T17:35:43.021Z"
    }
   },
   "outputs": [],
   "source": [
    "##Fnuction to calculate result pattern and test pattern are how similar\n",
    "def accuracy(pattern,result):\n",
    "    acc = 0.0\n",
    "    for i in range(len(pattern)):\n",
    "        for j in range(len(pattern)):\n",
    "            if pattern[i][j] == result[i][j]:\n",
    "                acc+=1\n",
    "    return (acc*1.0)/(len(pattern)**2)"
   ]
  },
  {
   "cell_type": "code",
   "execution_count": null,
   "id": "a930352f",
   "metadata": {
    "ExecuteTime": {
     "start_time": "2022-01-31T17:35:43.025Z"
    }
   },
   "outputs": [],
   "source": [
    "##Varies no of patterns and no of flips for different patterns of size 10 to determine effect of no of flips on network accuracy\n",
    "\n",
    "acc_npat=[]\n",
    "for i in range(5,56,5):\n",
    "    acc=[0]*20\n",
    "    for j in range(10):\n",
    "        patlist = get_patterns(10,i)\n",
    "        weights = calculate_weights(patlist,10)\n",
    "        for flips in range(0,96,5):\n",
    "            cue = deepcopy(patlist)\n",
    "            p = perturb_pattern(cue[0],flips)\n",
    "            for k  in range(5):\n",
    "                p = network_evolution(p,weights)\n",
    "            acc[flips//5]+= accuracy(patlist[0],p)\n",
    "           \n",
    "    acc_npat.append([a/10 for a in acc])\n",
    "\n",
    "##Plots the graph of accuracy vs no of flips for different no  of patterns in network\n",
    "\n",
    "fig , ax = plt.subplots(1)\n",
    "\n",
    "for i in range(len(acc_npat)):\n",
    "    values = np.array([x for x in acc_npat[i]])\n",
    "    keys = [x*5 for x in range(20)]\n",
    "    ax.plot(keys,values,label = (i+1)*5)\n",
    "    \n",
    "ax.set_xlabel('No of Flips')\n",
    "ax.set_ylabel('Accuracy')\n",
    "ax.set_title('Accuracy V/S No of Flips with Different No of Patterns')\n",
    "ax.legend(bbox_to_anchor = (1, 1))\n",
    "print()"
   ]
  },
  {
   "cell_type": "code",
   "execution_count": null,
   "id": "aa957687",
   "metadata": {
    "ExecuteTime": {
     "start_time": "2022-01-31T17:35:43.029Z"
    }
   },
   "outputs": [],
   "source": [
    "##Varies pattern size and no of flips for different pattern sets of 5 to determine effect of no of flips on network accuracy\n",
    "\n",
    "acc_sizepat=[]\n",
    "for i in range(8,12):\n",
    "    acc=[0]*13\n",
    "    for j in range(10):\n",
    "        patlist = get_patterns(i,5)\n",
    "        weights = calculate_weights(patlist,i)\n",
    "        for flips in range(0,61,5):\n",
    "            cue = deepcopy(patlist)\n",
    "            \n",
    "            p = perturb_pattern(cue[0],flips)\n",
    "            for k  in range(5):\n",
    "                p = network_evolution(p,weights)\n",
    "            acc[flips//5]+= accuracy(patlist[0],p)\n",
    "           \n",
    "    acc_sizepat.append([a/10 for a in acc])\n",
    "\n",
    "##Plots the graph of accuracy vs no of flips for different pattern sizes\n",
    "\n",
    "fig , ax = plt.subplots(1)\n",
    "\n",
    "for i in range(len(acc_sizepat)):\n",
    "    values = np.array([x for x in acc_sizepat[i]])\n",
    "    keys = [x*5 for x in range(13)]\n",
    "    ax.plot(keys,values,label = (i+8))\n",
    "    \n",
    "ax.set_xlabel('No of Flips')\n",
    "ax.set_ylabel('Accuracy')\n",
    "ax.set_title('Accuracy V/S No of Flips with Different Size of Patterns')\n",
    "ax.legend(bbox_to_anchor = (1, 1))\n",
    "print()"
   ]
  },
  {
   "cell_type": "markdown",
   "id": "5ed98d82",
   "metadata": {},
   "source": [
    "### As can be seen from above two graphs, as no of flips increases which leads to informativeness of cue decreasing leads to drop in network accuracy."
   ]
  },
  {
   "cell_type": "markdown",
   "id": "ed9f8948",
   "metadata": {},
   "source": [
    "## (B) No of Patterns in Netwoek\n",
    "\n",
    "### We will observe effect of increasing no of patterns in network on accuracy of hopsfield network"
   ]
  },
  {
   "cell_type": "code",
   "execution_count": null,
   "id": "b6251c39",
   "metadata": {
    "ExecuteTime": {
     "start_time": "2022-01-31T17:35:43.033Z"
    }
   },
   "outputs": [],
   "source": [
    "## Varies no of patterns in network with fixed no of flips and pattern size to determine relationship between no of patterns and accuracy\n",
    "acc=[0]*47\n",
    "for i in range(4,51):\n",
    "    for j in range(10):\n",
    "        patlist = get_patterns(10,i)\n",
    "        cue = deepcopy(patlist)\n",
    "        weights = calculate_weights(patlist,10)\n",
    "        p = perturb_pattern(cue[0],40)\n",
    "        for k  in range(5):\n",
    "            p = network_evolution(p,weights)\n",
    "        acc[(i-4)]+= accuracy(patlist[0],p)\n",
    "           \n",
    "acc = [a/10 for a in acc]\n",
    "\n",
    "##Plots the accuracy vs no of patterns graph using values computed above\n",
    "fig , ax = plt.subplots(1)\n",
    "\n",
    "keys = [x for x in range(4,51)]\n",
    "ax.plot(keys,acc)\n",
    "    \n",
    "ax.set_xlabel('No of Patterns')\n",
    "ax.set_ylabel('Accuracy')\n",
    "ax.set_title('Accuracy V/S No of Patterns')\n",
    "print()"
   ]
  },
  {
   "cell_type": "markdown",
   "id": "5592c885",
   "metadata": {},
   "source": [
    "### As can be seen from above graph, over full range of patterns, increase in no of patterns leads to decrease in accuracy but for partial segments of the graph no discerning trend can be infered.\n",
    "\n",
    "### For small changes in no of patterns (usually 2-3 ), there is no significant difference in accuracy of network"
   ]
  },
  {
   "cell_type": "markdown",
   "id": "1e71c04a",
   "metadata": {},
   "source": [
    "## (C) Size of Patterns in Netwoek\n",
    "\n",
    "### We will observe effect of increasing size of patterns in network on accuracy of hopsfield network"
   ]
  },
  {
   "cell_type": "code",
   "execution_count": null,
   "id": "5230674c",
   "metadata": {
    "ExecuteTime": {
     "start_time": "2022-01-31T17:35:43.037Z"
    }
   },
   "outputs": [],
   "source": [
    "## Varies size of pattern in network with fixed no of flips and no of patterns to determine relationship between size of pattern and accuracy\n",
    "acc=[0]*7\n",
    "for i in range(4,11):\n",
    "    for j in range(10):\n",
    "        patlist = get_patterns(i,6)\n",
    "        cue = deepcopy(patlist)\n",
    "        weights = calculate_weights(patlist,i)\n",
    "        p = perturb_pattern(cue[0],12)\n",
    "        for k  in range(5):\n",
    "            p = network_evolution(p,weights)\n",
    "        acc[(i-4)]+= accuracy(patlist[0],p)\n",
    "           \n",
    "acc = [a/10 for a in acc]\n",
    "\n",
    "##Plots the accuracy vs no of patterns graph using values computed above\n",
    "fig , ax = plt.subplots(1)\n",
    "\n",
    "keys = [x for x in range(4,11)]\n",
    "ax.plot(keys,acc)\n",
    "    \n",
    "ax.set_xlabel('Size of Patterns')\n",
    "ax.set_ylabel('Accuracy')\n",
    "ax.set_title('Accuracy V/S Size of Patterns')\n",
    "print()"
   ]
  },
  {
   "cell_type": "markdown",
   "id": "478c09e1",
   "metadata": {},
   "source": [
    "### It is observed that increase in pattern size leads to increase in network accuracy when constant no of flips are considered but in my opinion it is not right inference as for same no of pixel differences, when size of pattern is small then it has greater effect on accuracy in comparision to when pattern size is greater"
   ]
  },
  {
   "cell_type": "markdown",
   "id": "5c2e47f3",
   "metadata": {},
   "source": [
    "# Q3"
   ]
  },
  {
   "cell_type": "code",
   "execution_count": null,
   "id": "2b605bc7",
   "metadata": {
    "ExecuteTime": {
     "start_time": "2022-01-31T17:35:43.044Z"
    }
   },
   "outputs": [],
   "source": [
    "from tensorflow import keras\n",
    "import random\n",
    "\n",
    "(train_X,train_Y),(test_X,test_Y) = keras.datasets.mnist.load_data() ##Loads the MNIST dataset"
   ]
  },
  {
   "cell_type": "code",
   "execution_count": null,
   "id": "68b35960",
   "metadata": {
    "ExecuteTime": {
     "start_time": "2022-01-31T17:35:43.047Z"
    }
   },
   "outputs": [],
   "source": [
    "print(train_X.shape)\n",
    "print(test_X.shape)"
   ]
  },
  {
   "cell_type": "markdown",
   "id": "5adb661b",
   "metadata": {},
   "source": [
    "# Below Code for Deskewing is taken from [Source](https://fsix.github.io/mnist/Deskewing.html)"
   ]
  },
  {
   "cell_type": "code",
   "execution_count": null,
   "id": "5878a0c7",
   "metadata": {
    "ExecuteTime": {
     "start_time": "2022-01-31T17:35:43.051Z"
    }
   },
   "outputs": [],
   "source": [
    "from scipy.ndimage import interpolation\n",
    "\n",
    "def moments(image):\n",
    "    c0,c1 = np.mgrid[:image.shape[0],:image.shape[1]] # A trick in numPy to create a mesh grid\n",
    "    totalImage = np.sum(image) #sum of pixels\n",
    "    m0 = np.sum(c0*image)/totalImage #mu_x\n",
    "    m1 = np.sum(c1*image)/totalImage #mu_y\n",
    "    m00 = np.sum((c0-m0)**2*image)/totalImage #var(x)\n",
    "    m11 = np.sum((c1-m1)**2*image)/totalImage #var(y)\n",
    "    m01 = np.sum((c0-m0)*(c1-m1)*image)/totalImage #covariance(x,y)\n",
    "    mu_vector = np.array([m0,m1]) # Notice that these are \\mu_x, \\mu_y respectively\n",
    "    covariance_matrix = np.array([[m00,m01],[m01,m11]]) # Do you see a similarity between the covariance matrix\n",
    "    return mu_vector, covariance_matrix\n",
    "\n",
    "def deskew(image):\n",
    "    c,v = moments(image)\n",
    "    alpha = v[0,1]/v[0,0]\n",
    "    affine = np.array([[1,0],[alpha,1]])\n",
    "    ocenter = np.array(image.shape)/2.0\n",
    "    offset = c-np.dot(affine,ocenter)\n",
    "    return interpolation.affine_transform(image,affine,offset=offset)\n"
   ]
  },
  {
   "cell_type": "code",
   "execution_count": null,
   "id": "9b6aab51",
   "metadata": {
    "ExecuteTime": {
     "start_time": "2022-01-31T17:35:43.057Z"
    }
   },
   "outputs": [],
   "source": [
    "##Picks randomly n images of each digit from 0 to 9 converts into a binary image with pixel values +1/-1\n",
    "\n",
    "def datagen():\n",
    "    xtrain = []\n",
    "    ytrain = []\n",
    "    for i in range(10):\n",
    "        index= [x for x in range(60000) if train_Y[x]== i] ##Finds out indexes of all images of a particular digit i\n",
    "        randindex = random.sample(index,4) ##samples n indexes without replacement\n",
    "        for j in randindex: ##Converts selected training images to a binary image \n",
    "            data = deskew(train_X[j])[7:21,7:21].flatten() ##Corrects the digit angle then crops it to 14*14 and then flattens it for processing\n",
    "            data = np.where(data>127,1,-1) ##Replaces pixel with values greater than 127 with 1 and less than or equal to 127 to -1\n",
    "            data = np.reshape(data,(-1,14)) ##Reshapes the 1D array to 14*14 matrix\n",
    "            xtrain.append(data)\n",
    "            ytrain.append(i) ##Stores the training image and its corresponding label\n",
    "    return xtrain,ytrain"
   ]
  },
  {
   "cell_type": "code",
   "execution_count": null,
   "id": "31769aeb",
   "metadata": {
    "ExecuteTime": {
     "start_time": "2022-01-31T17:35:43.059Z"
    }
   },
   "outputs": [],
   "source": [
    "xtrain,ytrain=datagen()\n",
    "for i in range(10):\n",
    "    plot_tools.plot_pattern_list(xtrain[i*2:(i+1)*2])"
   ]
  },
  {
   "cell_type": "code",
   "execution_count": null,
   "id": "276ce7e1",
   "metadata": {
    "ExecuteTime": {
     "start_time": "2022-01-31T17:35:43.061Z"
    }
   },
   "outputs": [],
   "source": [
    "##Same work as 2 cells above but prepares test set\n",
    "xtest = []\n",
    "ytest = []\n",
    "for j in range(10000):\n",
    "    data = deskew(test_X[j])[7:21,7:21].flatten()\n",
    "    data = np.where(data>127,1,-1)\n",
    "    data = np.reshape(data,(-1,14))\n",
    "    xtest.append(data)\n",
    "    ytest.append(test_Y[j])\n"
   ]
  },
  {
   "cell_type": "markdown",
   "id": "d6c1d1ea",
   "metadata": {},
   "source": [
    "# Q4"
   ]
  },
  {
   "cell_type": "code",
   "execution_count": null,
   "id": "454b9723",
   "metadata": {
    "ExecuteTime": {
     "start_time": "2022-01-31T17:35:43.065Z"
    }
   },
   "outputs": [],
   "source": [
    "def similarity(test,p): ## Calculates how similar two passed patterns are\n",
    "    dot_prod = np.dot(p.flatten(), test.flatten())\n",
    "\n",
    "    return float(dot_prod) / (np.prod(p.shape))"
   ]
  },
  {
   "cell_type": "code",
   "execution_count": null,
   "id": "21ea97d6",
   "metadata": {
    "ExecuteTime": {
     "start_time": "2022-01-31T17:35:43.068Z"
    }
   },
   "outputs": [],
   "source": [
    "##Function which returns label of trainig image which is most similar to passed image in pixel values\n",
    "\n",
    "def prediction(pattern):\n",
    "    bestsim = -1\n",
    "    index = 0\n",
    "    for i in range(len(xtrain)):\n",
    "        currsim = similarity(pattern,xtrain[i])\n",
    "        if currsim>bestsim:\n",
    "            bestsim = currsim\n",
    "            pred = ytrain[i]\n",
    "        \n",
    "    return pred\n",
    "        "
   ]
  },
  {
   "cell_type": "code",
   "execution_count": null,
   "id": "ba6cc28a",
   "metadata": {
    "ExecuteTime": {
     "start_time": "2022-01-31T17:35:43.071Z"
    }
   },
   "outputs": [],
   "source": [
    "weights = calculate_weights(xtrain,14) ##Calculates weights for the hopsfield network being built as MNIST classifier"
   ]
  },
  {
   "cell_type": "code",
   "execution_count": null,
   "id": "a57e5e47",
   "metadata": {
    "ExecuteTime": {
     "start_time": "2022-01-31T17:35:43.073Z"
    }
   },
   "outputs": [],
   "source": [
    "##Runs the test images on the hopfield nework to generate test labels\n",
    "\n",
    "ypred=[]## Stores the generated labels for each test image\n",
    "for i in range(len(ytest)):\n",
    "    p = xtest[i]\n",
    "    for k in range(3):\n",
    "        p = network_evolution(p,weights)\n",
    "    ypred.append(prediction(p))\n"
   ]
  },
  {
   "cell_type": "markdown",
   "id": "4c4241b0",
   "metadata": {},
   "source": [
    "### Micro parameters take true positive , false negative and false positive for all classes together\n",
    "\n",
    "### Macro parameter calculates for each class individually and then averages it all to produce single values"
   ]
  },
  {
   "cell_type": "code",
   "execution_count": null,
   "id": "51c42c26",
   "metadata": {
    "ExecuteTime": {
     "start_time": "2022-01-31T17:35:43.076Z"
    }
   },
   "outputs": [],
   "source": [
    "##Generates performance metrics of hopfield network like recall , precission and F-score using true and predicted labels for test set\n",
    "\n",
    "from sklearn.metrics import *\n",
    "import warnings\n",
    "warnings.filterwarnings('ignore')\n",
    "\n",
    "confmat = confusion_matrix(ytest, ypred) ## No of right and wrong predicted labels for each class\n",
    "\n",
    "print('Confusion Matrix\\n',confmat)\n",
    "\n",
    "\n",
    "print('\\nAccuracy:',np.round(accuracy_score(ytest, ypred),4))\n",
    "\n",
    "print('\\n\\nMicro Precision:',np.round(precision_score(ytest, ypred, average='micro'),4))\n",
    "print('Micro Recall:',np.round(recall_score(ytest, ypred, average='micro'),4))\n",
    "print('Micro F-score:',np.round(f1_score(ytest, ypred, average='micro'),4))\n",
    "\n",
    "print('\\n\\nMacro Precision:',np.round(precision_score(ytest, ypred, average='macro'),4))\n",
    "print('Macro Recall:',np.round(recall_score(ytest, ypred, average='macro'),4))\n",
    "print('Macro F-score:',np.round(f1_score(ytest, ypred, average='macro'),4))\n",
    "\n",
    "print('\\n\\nWeighted Precision:',np.round(precision_score(ytest, ypred, average='weighted'),4))\n",
    "print('Weighted Recall:',np.round(recall_score(ytest, ypred, average='weighted'),4))\n",
    "print('Weighted F-score:',np.round(f1_score(ytest, ypred, average='weighted'),4))\n",
    "\n",
    "print('\\nClassification Report\\n\\n',classification_report(ytest, ypred))"
   ]
  },
  {
   "cell_type": "markdown",
   "id": "83b65bfd",
   "metadata": {},
   "source": [
    "## OBSERVATIONS\n",
    "\n",
    "<ul>\n",
    "    <li>Recall for digit <b>1</b> is almost 1 so we can infer that true '1' is easy to identify</li>    \n",
    "    <li>Digit <b>8</b> generally has lowest recall insinuating that there various ways in which people write digit <b>8</b></li>\n",
    "    <li>F score for digit <b>0</b> and <b>1</b> is generally high meaning classifier has very good performance when it has to classify it and does so with minimum error</li>\n",
    "    </ul>"
   ]
  },
  {
   "cell_type": "markdown",
   "id": "6c8a4906",
   "metadata": {},
   "source": [
    "## Comparision with deep and classical learning models\n",
    "\n",
    "### As we can see that F-score for Hopfield Network is in range of 0.25 to 0.42 generally \n",
    "\n",
    "### For Classical and Deep learning models the accuracy  is range of 98 to 99.79 % which is much better than aaccuracy of 25 - 40% we are getting for our Hopfield Network.\n",
    "\n",
    "[Reference Link1](http://rodrigob.github.io/are_we_there_yet/build/classification_datasets_results.html)\n",
    "[Reference Link2](https://github.com/hwalsuklee/tensorflow-mnist-cnn)\n",
    "[Reference Link3](https://github.com/ksopyla/svm_mnist_digit_classification)\n",
    "\n",
    "## Advantages over other classical and deep learning models\n",
    "\n",
    "<ol>\n",
    "    <li>Smaller Training Time</li>\n",
    "    <li>Simpler to understand and implement</li>\n",
    "    <li>Not very memory intensive</li>\n",
    "</ol>\n",
    "\n",
    "## Disadvantages over other classical and deep learning models\n",
    "\n",
    "<ol>\n",
    "    <li>Not very accurate classifier</li>\n",
    "    <li>No of samples or patterns that can be effectively learnt are limited</li>\n",
    "    <li>Cannot differentiate between slightly to moderately different patterns</li>\n",
    "    <li>Limited to only +1/-1, therefore can lead to data loss in cases of shading or colour patterns</li>\n",
    "</ol>"
   ]
  },
  {
   "cell_type": "markdown",
   "id": "59393ebc",
   "metadata": {},
   "source": [
    "# References\n",
    "<ol>\n",
    "    <li>StackOverflow</li>\n",
    "    <li><a href='https://iopscience.iop.org/article/10.1088/1757-899X/862/5/052048'>Research Paper</a></li>\n",
    "    <li><a href='https://fsix.github.io/mnist/Deskewing.html'>Deskewing Code</a></li>\n",
    "    <li><a href='https://scikit-learn.org/stable/modules/generated/sklearn.metrics.classification_report.html?highlight=classification%20report#sklearn.metrics.classification_report'>Scikit Performance Metrics</a></li>\n",
    "    <li><a href='https://www.baeldung.com/cs/multi-class-f1-score'>F score Theory</a></li>\n",
    "    </ol>"
   ]
  }
 ],
 "metadata": {
  "kernelspec": {
   "display_name": "Python 3",
   "language": "python",
   "name": "python3"
  },
  "language_info": {
   "codemirror_mode": {
    "name": "ipython",
    "version": 3
   },
   "file_extension": ".py",
   "mimetype": "text/x-python",
   "name": "python",
   "nbconvert_exporter": "python",
   "pygments_lexer": "ipython3",
   "version": "3.8.8"
  },
  "varInspector": {
   "cols": {
    "lenName": 16,
    "lenType": 16,
    "lenVar": 40
   },
   "kernels_config": {
    "python": {
     "delete_cmd_postfix": "",
     "delete_cmd_prefix": "del ",
     "library": "var_list.py",
     "varRefreshCmd": "print(var_dic_list())"
    },
    "r": {
     "delete_cmd_postfix": ") ",
     "delete_cmd_prefix": "rm(",
     "library": "var_list.r",
     "varRefreshCmd": "cat(var_dic_list()) "
    }
   },
   "types_to_exclude": [
    "module",
    "function",
    "builtin_function_or_method",
    "instance",
    "_Feature"
   ],
   "window_display": false
  }
 },
 "nbformat": 4,
 "nbformat_minor": 5
}
