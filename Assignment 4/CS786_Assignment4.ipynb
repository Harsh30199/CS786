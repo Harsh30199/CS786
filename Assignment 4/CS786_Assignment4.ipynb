{
  "nbformat": 4,
  "nbformat_minor": 0,
  "metadata": {
    "colab": {
      "name": "CS786 Assignment4.ipynb",
      "provenance": []
    },
    "kernelspec": {
      "name": "python3",
      "display_name": "Python 3"
    },
    "language_info": {
      "name": "python"
    }
  },
  "cells": [
    {
      "cell_type": "code",
      "execution_count": null,
      "metadata": {
        "id": "-TQi-ypcPldC"
      },
      "outputs": [],
      "source": [
        "import numpy as np\n",
        "import pandas as pd\n",
        "import random\n",
        "import matplotlib.pyplot as plt"
      ]
    },
    {
      "cell_type": "markdown",
      "source": [
        "#### When $\\alpha = [0.67,0.33]  $ for Weight and Height respectively"
      ],
      "metadata": {
        "id": "qao4MqzOURev"
      }
    },
    {
      "cell_type": "code",
      "source": [
        "def sim(x,y):\n",
        "  dist = 0.67*(np.abs(x[0]-y[0])) + 0.33*(np.abs(x[1]-y[1]))         ## Weight is more likely to be used for categorization\n",
        "  return np.exp(-1*dist)     ##Beta is set to 1 as suggsted in paper\n"
      ],
      "metadata": {
        "id": "oChXkpf0hQjP"
      },
      "execution_count": null,
      "outputs": []
    },
    {
      "cell_type": "code",
      "source": [
        "def calcN(tl):\n",
        "  N = np.zeros((len(tl),3))\n",
        "  for i in range(len(tl)):\n",
        "    N[i][tl[i]-1]+=1\n",
        "  \n",
        "  return N"
      ],
      "metadata": {
        "id": "iGqwafbci9Yi"
      },
      "execution_count": null,
      "outputs": []
    },
    {
      "cell_type": "markdown",
      "source": [
        "#### When $\\gamma = [0.34,0.39,0.27]$ for Categories Small, Average , Large respectively"
      ],
      "metadata": {
        "id": "UTIaTGjKw-Nb"
      }
    },
    {
      "cell_type": "code",
      "source": [
        "def predict(train,y,N):\n",
        "  votes = [0.0]*3\n",
        "  gamma = [0.34,0.39,0.27]\n",
        "  for i in range(3):\n",
        "    for j in range(len(train)):\n",
        "      votes[i] += N[j][i]*sim(train[j][0:2],y)\n",
        "    \n",
        "    votes[i]*= gamma[i]\n",
        "\n",
        "  votes = votes/np.sum(votes)\n",
        "\n",
        "  return np.argmax(votes)+1"
      ],
      "metadata": {
        "id": "OQy3wc4thJ6Y"
      },
      "execution_count": null,
      "outputs": []
    },
    {
      "cell_type": "code",
      "source": [
        "df = pd.read_csv('/content/drive/MyDrive/CS786/X.csv',header = None)\n",
        "train = np.array(df)\n",
        "df = pd.read_csv('/content/drive/MyDrive/CS786/y.csv',header = None)\n",
        "df[2] = -1\n",
        "test = np.array(df)\n",
        "\n",
        "\n",
        "for t in range(len(test)):\n",
        "  N = calcN(train[:,-1])\n",
        "  test[t][2] = predict(train,test[t][0:2],N)\n",
        "  \n",
        "  train = np.concatenate((train,test[t].reshape(1,3)),axis = 0)"
      ],
      "metadata": {
        "id": "63hh9qVCo2Vi"
      },
      "execution_count": null,
      "outputs": []
    },
    {
      "cell_type": "code",
      "source": [
        "\n",
        "pd.DataFrame(test).to_csv(\"/content/drive/MyDrive/CS786/test_gcm_a1g1.csv\",header=False,index=False)\n",
        "print(pd.DataFrame(test,columns = ['Weight' ,'Height',  'Label' ]))"
      ],
      "metadata": {
        "colab": {
          "base_uri": "https://localhost:8080/"
        },
        "id": "Z4UMpN-Wqa-H",
        "outputId": "eba551c6-03c3-44a6-c1bc-5a0b80f397ca"
      },
      "execution_count": null,
      "outputs": [
        {
          "output_type": "stream",
          "name": "stdout",
          "text": [
            "   Weight  Height  Label\n",
            "0      74      67      3\n",
            "1      69      63      2\n",
            "2      92      81      3\n",
            "3      64      61      2\n",
            "4      66      84      2\n",
            "5      76      68      3\n",
            "6      61      58      2\n",
            "7      64      76      2\n",
            "8      68      66      2\n",
            "9      34      61      1\n"
          ]
        }
      ]
    },
    {
      "cell_type": "markdown",
      "source": [
        "#### When $\\gamma = [0.34,0.49,0.17]$ for Categories Small, Average , Large respectively"
      ],
      "metadata": {
        "id": "yDH0XKx-xY6R"
      }
    },
    {
      "cell_type": "code",
      "source": [
        "def predict(train,y,N):\n",
        "  votes = [0.0]*3\n",
        "  gamma = [0.34,0.49,0.17]\n",
        "  for i in range(3):\n",
        "    for j in range(len(train)):\n",
        "      votes[i] += N[j][i]*sim(train[j][0:2],y)\n",
        "    \n",
        "    votes[i]*= gamma[i]\n",
        "\n",
        "  votes = votes/np.sum(votes)\n",
        "\n",
        "  return np.argmax(votes)+1"
      ],
      "metadata": {
        "id": "3Sp-6mqgxY6T"
      },
      "execution_count": null,
      "outputs": []
    },
    {
      "cell_type": "code",
      "source": [
        "df = pd.read_csv('/content/drive/MyDrive/CS786/X.csv',header = None)\n",
        "train = np.array(df)\n",
        "df = pd.read_csv('/content/drive/MyDrive/CS786/y.csv',header = None)\n",
        "df[2] = 0\n",
        "test = np.array(df)\n",
        "\n",
        "\n",
        "for t in range(len(test)):\n",
        "  N = calcN(train[:,-1])\n",
        "  test[t][2] = predict(train,test[t][0:2],N)\n",
        " \n",
        "  train = np.concatenate((train,test[t].reshape(1,3)),axis = 0)"
      ],
      "metadata": {
        "id": "BRf8hTpYxY6Y"
      },
      "execution_count": null,
      "outputs": []
    },
    {
      "cell_type": "code",
      "source": [
        "##np.savetxt(\"/content/drive/MyDrive/CS786/test_gamma2.csv\",test, delimiter=\",\")\n",
        "pd.DataFrame(test).to_csv(\"/content/drive/MyDrive/CS786/test_gcm_a1g2.csv\",header=False,index=False)\n",
        "print(pd.DataFrame(test,columns = ['Weight' ,'Height',  'Label' ]))"
      ],
      "metadata": {
        "colab": {
          "base_uri": "https://localhost:8080/"
        },
        "id": "pK-GttLmxm2K",
        "outputId": "4bfa8b93-b359-4e88-d867-b02931559214"
      },
      "execution_count": null,
      "outputs": [
        {
          "output_type": "stream",
          "name": "stdout",
          "text": [
            "   Weight  Height  Label\n",
            "0      74      67      2\n",
            "1      69      63      2\n",
            "2      92      81      3\n",
            "3      64      61      2\n",
            "4      66      84      2\n",
            "5      76      68      3\n",
            "6      61      58      2\n",
            "7      64      76      2\n",
            "8      68      66      2\n",
            "9      34      61      1\n"
          ]
        }
      ]
    },
    {
      "cell_type": "markdown",
      "source": [
        "#### When $\\alpha = [0.55,0.45]  $ for Weight and Height respectively"
      ],
      "metadata": {
        "id": "W2FslAU8U5Dh"
      }
    },
    {
      "cell_type": "code",
      "source": [
        "def sim2(x,y):\n",
        "  dist = 0.55*(np.abs(x[0]-y[0])) + 0.45*(np.abs(x[1]-y[1]))         ## Weight is more likely to be used for categorization\n",
        "  return np.exp(-1*dist)     ##Beta is set to 1 as suggsted in paper\n"
      ],
      "metadata": {
        "id": "0LE8T7qqTBC_"
      },
      "execution_count": null,
      "outputs": []
    },
    {
      "cell_type": "markdown",
      "source": [
        "#### When $\\gamma = [0.34,0.39,0.27]$ for Categories Small, Average , Large respectively"
      ],
      "metadata": {
        "id": "fa2EPbUpTBDD"
      }
    },
    {
      "cell_type": "code",
      "source": [
        "def predict(train,y,N):\n",
        "  votes = [0.0]*3\n",
        "  gamma = [0.34,0.39,0.27]\n",
        "  for i in range(3):\n",
        "    for j in range(len(train)):\n",
        "      votes[i] += N[j][i]*sim2(train[j][0:2],y)\n",
        "    \n",
        "    votes[i]*= gamma[i]\n",
        "\n",
        "  votes = votes/np.sum(votes)\n",
        "\n",
        "  return np.argmax(votes)+1"
      ],
      "metadata": {
        "id": "LUB6lBp8TBDE"
      },
      "execution_count": null,
      "outputs": []
    },
    {
      "cell_type": "code",
      "source": [
        "df = pd.read_csv('/content/drive/MyDrive/CS786/X.csv',header = None)\n",
        "train = np.array(df)\n",
        "df = pd.read_csv('/content/drive/MyDrive/CS786/y.csv',header = None)\n",
        "df[2] = -1\n",
        "test = np.array(df)\n",
        "\n",
        "\n",
        "for t in range(len(test)):\n",
        "  N = calcN(train[:,-1])\n",
        "  test[t][2] = predict(train,test[t][0:2],N)\n",
        "  \n",
        "  train = np.concatenate((train,test[t].reshape(1,3)),axis = 0)"
      ],
      "metadata": {
        "id": "i2WhCCKNTBDG"
      },
      "execution_count": null,
      "outputs": []
    },
    {
      "cell_type": "code",
      "source": [
        "##np.savetxt(\"/content/drive/MyDrive/CS786/test_gamma1.csv\",test, delimiter=\",\")\n",
        "pd.DataFrame(test).to_csv(\"/content/drive/MyDrive/CS786/test_gcm_a2g1.csv\",header=False,index=False)\n",
        "print(pd.DataFrame(test,columns = ['Weight' ,'Height',  'Label' ]))"
      ],
      "metadata": {
        "colab": {
          "base_uri": "https://localhost:8080/"
        },
        "outputId": "4d6be417-39b9-468f-ab5c-52bfa79c4c1a",
        "id": "LsNZReRfTBDH"
      },
      "execution_count": null,
      "outputs": [
        {
          "output_type": "stream",
          "name": "stdout",
          "text": [
            "   Weight  Height  Label\n",
            "0      74      67      3\n",
            "1      69      63      2\n",
            "2      92      81      3\n",
            "3      64      61      2\n",
            "4      66      84      2\n",
            "5      76      68      3\n",
            "6      61      58      2\n",
            "7      64      76      2\n",
            "8      68      66      2\n",
            "9      34      61      1\n"
          ]
        }
      ]
    },
    {
      "cell_type": "markdown",
      "source": [
        "#### When $\\gamma = [0.34,0.49,0.17]$ for Categories Small, Average , Large respectively"
      ],
      "metadata": {
        "id": "fJN-ON8fTBDI"
      }
    },
    {
      "cell_type": "code",
      "source": [
        "def predict(train,y,N):\n",
        "  votes = [0.0]*3\n",
        "  gamma = [0.34,0.49,0.17]\n",
        "  for i in range(3):\n",
        "    for j in range(len(train)):\n",
        "      votes[i] += N[j][i]*sim2(train[j][0:2],y)\n",
        "    \n",
        "    votes[i]*= gamma[i]\n",
        "\n",
        "  votes = votes/np.sum(votes)\n",
        "\n",
        "  return np.argmax(votes)+1"
      ],
      "metadata": {
        "id": "56QB_FW9TBDJ"
      },
      "execution_count": null,
      "outputs": []
    },
    {
      "cell_type": "code",
      "source": [
        "df = pd.read_csv('/content/drive/MyDrive/CS786/X.csv',header = None)\n",
        "train = np.array(df)\n",
        "df = pd.read_csv('/content/drive/MyDrive/CS786/y.csv',header = None)\n",
        "df[2] = 0\n",
        "test = np.array(df)\n",
        "\n",
        "\n",
        "for t in range(len(test)):\n",
        "  N = calcN(train[:,-1])\n",
        "  test[t][2] = predict(train,test[t][0:2],N)\n",
        "  \n",
        "  train = np.concatenate((train,test[t].reshape(1,3)),axis = 0)"
      ],
      "metadata": {
        "id": "MpSMuqXkTBDK"
      },
      "execution_count": null,
      "outputs": []
    },
    {
      "cell_type": "code",
      "source": [
        "\n",
        "pd.DataFrame(test).to_csv(\"/content/drive/MyDrive/CS786/test_gcm_a2g2.csv\",header=False,index=False)\n",
        "print(pd.DataFrame(test,columns = ['Weight' ,'Height',  'Label' ]))"
      ],
      "metadata": {
        "colab": {
          "base_uri": "https://localhost:8080/"
        },
        "outputId": "ecc642c6-9add-48ff-c2f6-e8d41454bc3d",
        "id": "go4ZF5UETBDL"
      },
      "execution_count": null,
      "outputs": [
        {
          "output_type": "stream",
          "name": "stdout",
          "text": [
            "   Weight  Height  Label\n",
            "0      74      67      2\n",
            "1      69      63      2\n",
            "2      92      81      3\n",
            "3      64      61      2\n",
            "4      66      84      2\n",
            "5      76      68      3\n",
            "6      61      58      2\n",
            "7      64      76      2\n",
            "8      68      66      2\n",
            "9      34      61      1\n"
          ]
        }
      ]
    },
    {
      "cell_type": "markdown",
      "source": [
        "#### For showing Exchangability of data for GCM we will consider $\\alpha = [0.67,0.33]$ and $\\gamma = [0.34,0.39,0.27]$"
      ],
      "metadata": {
        "id": "56emqVbBZi3x"
      }
    },
    {
      "cell_type": "code",
      "source": [
        "def sim(x,y):\n",
        "  dist = 0.67*(np.abs(x[0]-y[0])) + 0.33*(np.abs(x[1]-y[1]))         ## Weight is more likely to be used for categorization\n",
        "  return np.exp(-1*dist)     ##Beta is set to 1 as suggsted in paper\n",
        "\n",
        "def calcN(tl):\n",
        "  N = np.zeros((len(tl),3))\n",
        "  for i in range(len(tl)):\n",
        "    N[i][tl[i]-1]+=1\n",
        "  \n",
        "  return N\n",
        "\n",
        "def predict(train,y,N):\n",
        "  votes = [0.0]*3\n",
        "  gamma = [0.34,0.39,0.27]\n",
        "  for i in range(3):\n",
        "    for j in range(len(train)):\n",
        "      votes[i] += N[j][i]*sim(train[j][0:2],y)\n",
        "    \n",
        "    votes[i]*= gamma[i]\n",
        "\n",
        "  votes = votes/np.sum(votes)\n",
        "\n",
        "  return np.argmax(votes)+1"
      ],
      "metadata": {
        "id": "TL6olQTebNGD"
      },
      "execution_count": null,
      "outputs": []
    },
    {
      "cell_type": "code",
      "source": [
        "def check(res):\n",
        "  final_res = []\n",
        "  for i in range(10):\n",
        "    temp = list(res[0][i])+[res[1][i][2]]+[res[2][i][2]]+[res[3][i][2]]+[res[4][i][2]]\n",
        "    final_res.append(temp)\n",
        "\n",
        "  print('Classification for all shuffles ',end='\\n\\n')\n",
        "  df = pd.DataFrame(final_res,columns = ['Weight' ,'Height',  'Shuffle 1' , 'Shuffle 2',  'Shuffle 3',  'Shuffle 4','Shuffle 5'])\n",
        "  print(df.head(10))"
      ],
      "metadata": {
        "id": "IoTBMG-AmLIw"
      },
      "execution_count": null,
      "outputs": []
    },
    {
      "cell_type": "code",
      "source": [
        "res =[]\n",
        "for i in range(5):\n",
        "\n",
        "  df = pd.read_csv('/content/drive/MyDrive/CS786/X.csv',header = None)\n",
        "  train = np.array(df)\n",
        "  df = pd.read_csv('/content/drive/MyDrive/CS786/y.csv',header = None)\n",
        "  df[2] = -1\n",
        "  test = np.array(df)\n",
        "\n",
        "  np.random.shuffle(train)\n",
        "  np.random.shuffle(test)\n",
        "\n",
        "  for t in range(len(test)):\n",
        "    N = calcN(train[:,-1])\n",
        "    test[t][2] = predict(train,test[t][0:2],N)\n",
        "    \n",
        "    train = np.concatenate((train,test[t].reshape(1,3)),axis = 0)\n",
        "  \n",
        "  print('Classification for ',i+1,'th shuffle',sep='',end='\\n\\n')\n",
        "  df = pd.DataFrame(test,columns = ['Weight' ,'Height',  'Label' ])\n",
        "  print(df.head(10),end='\\n\\n\\n')\n",
        "  res.append(sorted(test, key=lambda x: x[0]))\n",
        "\n",
        "check(res)"
      ],
      "metadata": {
        "colab": {
          "base_uri": "https://localhost:8080/"
        },
        "id": "VNtr-cD9Z96B",
        "outputId": "bb6aece9-8439-46d2-aa21-2026581d2ba7"
      },
      "execution_count": null,
      "outputs": [
        {
          "output_type": "stream",
          "name": "stdout",
          "text": [
            "Classification for 1th shuffle\n",
            "\n",
            "   Weight  Height  Label\n",
            "0      92      81      3\n",
            "1      64      76      2\n",
            "2      64      61      2\n",
            "3      61      58      2\n",
            "4      66      84      2\n",
            "5      76      68      3\n",
            "6      69      63      2\n",
            "7      74      67      3\n",
            "8      68      66      2\n",
            "9      34      61      1\n",
            "\n",
            "\n",
            "Classification for 2th shuffle\n",
            "\n",
            "   Weight  Height  Label\n",
            "0      66      84      2\n",
            "1      92      81      3\n",
            "2      69      63      2\n",
            "3      68      66      2\n",
            "4      74      67      3\n",
            "5      64      76      2\n",
            "6      61      58      2\n",
            "7      76      68      3\n",
            "8      64      61      2\n",
            "9      34      61      1\n",
            "\n",
            "\n",
            "Classification for 3th shuffle\n",
            "\n",
            "   Weight  Height  Label\n",
            "0      34      61      1\n",
            "1      66      84      2\n",
            "2      92      81      3\n",
            "3      68      66      2\n",
            "4      64      61      2\n",
            "5      69      63      2\n",
            "6      76      68      3\n",
            "7      74      67      3\n",
            "8      64      76      2\n",
            "9      61      58      2\n",
            "\n",
            "\n",
            "Classification for 4th shuffle\n",
            "\n",
            "   Weight  Height  Label\n",
            "0      76      68      3\n",
            "1      61      58      2\n",
            "2      66      84      2\n",
            "3      34      61      1\n",
            "4      64      76      2\n",
            "5      68      66      2\n",
            "6      92      81      3\n",
            "7      74      67      3\n",
            "8      64      61      2\n",
            "9      69      63      2\n",
            "\n",
            "\n",
            "Classification for 5th shuffle\n",
            "\n",
            "   Weight  Height  Label\n",
            "0      69      63      2\n",
            "1      76      68      3\n",
            "2      66      84      2\n",
            "3      68      66      2\n",
            "4      64      76      2\n",
            "5      92      81      3\n",
            "6      64      61      2\n",
            "7      34      61      1\n",
            "8      61      58      2\n",
            "9      74      67      3\n",
            "\n",
            "\n",
            "Classification for all shuffles \n",
            "\n",
            "   Weight  Height  Shuffle 1  Shuffle 2  Shuffle 3  Shuffle 4  Shuffle 5\n",
            "0      34      61          1          1          1          1          1\n",
            "1      61      58          2          2          2          2          2\n",
            "2      64      76          2          2          2          2          2\n",
            "3      64      61          2          2          2          2          2\n",
            "4      66      84          2          2          2          2          2\n",
            "5      68      66          2          2          2          2          2\n",
            "6      69      63          2          2          2          2          2\n",
            "7      74      67          3          3          3          3          3\n",
            "8      76      68          3          3          3          3          3\n",
            "9      92      81          3          3          3          3          3\n"
          ]
        }
      ]
    },
    {
      "cell_type": "markdown",
      "source": [
        "#### As we can that even after shuffling training and test data five times, we get same category labels for test data each time. Therefore GCM has the property of data exchangibility, i.e. the order in which data enters the model does not affect the category labels of the model for any given subset of data"
      ],
      "metadata": {
        "id": "OFuapaBlc8Kq"
      }
    }
  ]
}